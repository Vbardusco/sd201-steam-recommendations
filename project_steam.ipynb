{
 "cells": [
  {
   "cell_type": "markdown",
   "id": "15ca36ea",
   "metadata": {},
   "source": [
    "# SD201 project"
   ]
  },
  {
   "cell_type": "markdown",
   "id": "b800d60e",
   "metadata": {},
   "source": [
    "- Create dataset from scraping with steam api\n",
    "- Make apriori algorithm on bought games\n",
    "- Make knn algorithm on hours played\n",
    "- Use steam api to make recommendations to a player"
   ]
  },
  {
   "cell_type": "markdown",
   "id": "041824a1",
   "metadata": {},
   "source": [
    "# Formulate the question"
   ]
  },
  {
   "cell_type": "markdown",
   "id": "dae81850",
   "metadata": {},
   "source": [
    "Knowing the games someone bought and how many hours they played it on Steam, what are the other games they could like and thus potentially buy ?"
   ]
  },
  {
   "cell_type": "markdown",
   "id": "7e32a8e2",
   "metadata": {},
   "source": [
    "# Finding the dataset"
   ]
  },
  {
   "cell_type": "markdown",
   "id": "298c68aa",
   "metadata": {},
   "source": [
    "We'll first test the algorithms on an already existing dataset, and we will then try to create our own dataset with Steam's api."
   ]
  },
  {
   "cell_type": "markdown",
   "id": "1dbac79b",
   "metadata": {},
   "source": [
    "We choose this dataset : https://www.kaggle.com/datasets/tamber/steam-video-games.  \n",
    "Indeed, it gives us a huge amount of users with their bought and played games on Steam, which will enable us to predict what kind of games they like (supposing that the more someone plays a game, the more he likes it), "
   ]
  },
  {
   "cell_type": "code",
   "execution_count": 53,
   "id": "f65529d6",
   "metadata": {},
   "outputs": [],
   "source": [
    "import pandas as pd"
   ]
  },
  {
   "cell_type": "code",
   "execution_count": 7,
   "id": "c19ffb5a",
   "metadata": {},
   "outputs": [],
   "source": [
    "df = pd.read_csv('steam-200k.csv')"
   ]
  },
  {
   "cell_type": "code",
   "execution_count": 8,
   "id": "8a975975",
   "metadata": {},
   "outputs": [
    {
     "data": {
      "text/html": [
       "<div>\n",
       "<style scoped>\n",
       "    .dataframe tbody tr th:only-of-type {\n",
       "        vertical-align: middle;\n",
       "    }\n",
       "\n",
       "    .dataframe tbody tr th {\n",
       "        vertical-align: top;\n",
       "    }\n",
       "\n",
       "    .dataframe thead th {\n",
       "        text-align: right;\n",
       "    }\n",
       "</style>\n",
       "<table border=\"1\" class=\"dataframe\">\n",
       "  <thead>\n",
       "    <tr style=\"text-align: right;\">\n",
       "      <th></th>\n",
       "      <th>151603712</th>\n",
       "      <th>The Elder Scrolls V Skyrim</th>\n",
       "      <th>purchase</th>\n",
       "      <th>1.0</th>\n",
       "      <th>0</th>\n",
       "    </tr>\n",
       "  </thead>\n",
       "  <tbody>\n",
       "    <tr>\n",
       "      <th>0</th>\n",
       "      <td>151603712</td>\n",
       "      <td>The Elder Scrolls V Skyrim</td>\n",
       "      <td>play</td>\n",
       "      <td>273.0</td>\n",
       "      <td>0</td>\n",
       "    </tr>\n",
       "    <tr>\n",
       "      <th>1</th>\n",
       "      <td>151603712</td>\n",
       "      <td>Fallout 4</td>\n",
       "      <td>purchase</td>\n",
       "      <td>1.0</td>\n",
       "      <td>0</td>\n",
       "    </tr>\n",
       "    <tr>\n",
       "      <th>2</th>\n",
       "      <td>151603712</td>\n",
       "      <td>Fallout 4</td>\n",
       "      <td>play</td>\n",
       "      <td>87.0</td>\n",
       "      <td>0</td>\n",
       "    </tr>\n",
       "    <tr>\n",
       "      <th>3</th>\n",
       "      <td>151603712</td>\n",
       "      <td>Spore</td>\n",
       "      <td>purchase</td>\n",
       "      <td>1.0</td>\n",
       "      <td>0</td>\n",
       "    </tr>\n",
       "    <tr>\n",
       "      <th>4</th>\n",
       "      <td>151603712</td>\n",
       "      <td>Spore</td>\n",
       "      <td>play</td>\n",
       "      <td>14.9</td>\n",
       "      <td>0</td>\n",
       "    </tr>\n",
       "  </tbody>\n",
       "</table>\n",
       "</div>"
      ],
      "text/plain": [
       "   151603712  The Elder Scrolls V Skyrim  purchase    1.0  0\n",
       "0  151603712  The Elder Scrolls V Skyrim      play  273.0  0\n",
       "1  151603712                   Fallout 4  purchase    1.0  0\n",
       "2  151603712                   Fallout 4      play   87.0  0\n",
       "3  151603712                       Spore  purchase    1.0  0\n",
       "4  151603712                       Spore      play   14.9  0"
      ]
     },
     "execution_count": 8,
     "metadata": {},
     "output_type": "execute_result"
    }
   ],
   "source": [
    "df.head()"
   ]
  },
  {
   "cell_type": "code",
   "execution_count": 42,
   "id": "b18f4608",
   "metadata": {},
   "outputs": [
    {
     "data": {
      "text/html": [
       "<div>\n",
       "<style scoped>\n",
       "    .dataframe tbody tr th:only-of-type {\n",
       "        vertical-align: middle;\n",
       "    }\n",
       "\n",
       "    .dataframe tbody tr th {\n",
       "        vertical-align: top;\n",
       "    }\n",
       "\n",
       "    .dataframe thead th {\n",
       "        text-align: right;\n",
       "    }\n",
       "</style>\n",
       "<table border=\"1\" class=\"dataframe\">\n",
       "  <thead>\n",
       "    <tr style=\"text-align: right;\">\n",
       "      <th></th>\n",
       "      <th>id</th>\n",
       "      <th>hours_played</th>\n",
       "    </tr>\n",
       "  </thead>\n",
       "  <tbody>\n",
       "    <tr>\n",
       "      <th>count</th>\n",
       "      <td>1.999990e+05</td>\n",
       "      <td>199999.000000</td>\n",
       "    </tr>\n",
       "    <tr>\n",
       "      <th>mean</th>\n",
       "      <td>1.036556e+08</td>\n",
       "      <td>17.226915</td>\n",
       "    </tr>\n",
       "    <tr>\n",
       "      <th>std</th>\n",
       "      <td>7.208084e+07</td>\n",
       "      <td>138.137245</td>\n",
       "    </tr>\n",
       "    <tr>\n",
       "      <th>min</th>\n",
       "      <td>5.250000e+03</td>\n",
       "      <td>0.000000</td>\n",
       "    </tr>\n",
       "    <tr>\n",
       "      <th>25%</th>\n",
       "      <td>4.738420e+07</td>\n",
       "      <td>0.000000</td>\n",
       "    </tr>\n",
       "    <tr>\n",
       "      <th>50%</th>\n",
       "      <td>8.691201e+07</td>\n",
       "      <td>0.000000</td>\n",
       "    </tr>\n",
       "    <tr>\n",
       "      <th>75%</th>\n",
       "      <td>1.542309e+08</td>\n",
       "      <td>1.300000</td>\n",
       "    </tr>\n",
       "    <tr>\n",
       "      <th>max</th>\n",
       "      <td>3.099031e+08</td>\n",
       "      <td>11754.000000</td>\n",
       "    </tr>\n",
       "  </tbody>\n",
       "</table>\n",
       "</div>"
      ],
      "text/plain": [
       "                 id   hours_played\n",
       "count  1.999990e+05  199999.000000\n",
       "mean   1.036556e+08      17.226915\n",
       "std    7.208084e+07     138.137245\n",
       "min    5.250000e+03       0.000000\n",
       "25%    4.738420e+07       0.000000\n",
       "50%    8.691201e+07       0.000000\n",
       "75%    1.542309e+08       1.300000\n",
       "max    3.099031e+08   11754.000000"
      ]
     },
     "execution_count": 42,
     "metadata": {},
     "output_type": "execute_result"
    }
   ],
   "source": [
    "df.describe()"
   ]
  },
  {
   "cell_type": "markdown",
   "id": "173481fb",
   "metadata": {},
   "source": [
    "The dataset cumulates 2 000 000 hours played, which seems enough, and we will check the number of users when the data will be a little bit cleaner."
   ]
  },
  {
   "cell_type": "markdown",
   "id": "0490f729",
   "metadata": {},
   "source": [
    "# Cleaning the data"
   ]
  },
  {
   "cell_type": "markdown",
   "id": "2395b4e4",
   "metadata": {},
   "source": [
    "## Renaming the columns"
   ]
  },
  {
   "cell_type": "code",
   "execution_count": 11,
   "id": "9097b2b3",
   "metadata": {},
   "outputs": [
    {
     "data": {
      "text/html": [
       "<div>\n",
       "<style scoped>\n",
       "    .dataframe tbody tr th:only-of-type {\n",
       "        vertical-align: middle;\n",
       "    }\n",
       "\n",
       "    .dataframe tbody tr th {\n",
       "        vertical-align: top;\n",
       "    }\n",
       "\n",
       "    .dataframe thead th {\n",
       "        text-align: right;\n",
       "    }\n",
       "</style>\n",
       "<table border=\"1\" class=\"dataframe\">\n",
       "  <thead>\n",
       "    <tr style=\"text-align: right;\">\n",
       "      <th></th>\n",
       "      <th>id</th>\n",
       "      <th>game</th>\n",
       "      <th>state</th>\n",
       "      <th>hours_played</th>\n",
       "      <th>0</th>\n",
       "    </tr>\n",
       "  </thead>\n",
       "  <tbody>\n",
       "    <tr>\n",
       "      <th>0</th>\n",
       "      <td>151603712</td>\n",
       "      <td>The Elder Scrolls V Skyrim</td>\n",
       "      <td>play</td>\n",
       "      <td>273.0</td>\n",
       "      <td>0</td>\n",
       "    </tr>\n",
       "    <tr>\n",
       "      <th>1</th>\n",
       "      <td>151603712</td>\n",
       "      <td>Fallout 4</td>\n",
       "      <td>purchase</td>\n",
       "      <td>1.0</td>\n",
       "      <td>0</td>\n",
       "    </tr>\n",
       "    <tr>\n",
       "      <th>2</th>\n",
       "      <td>151603712</td>\n",
       "      <td>Fallout 4</td>\n",
       "      <td>play</td>\n",
       "      <td>87.0</td>\n",
       "      <td>0</td>\n",
       "    </tr>\n",
       "    <tr>\n",
       "      <th>3</th>\n",
       "      <td>151603712</td>\n",
       "      <td>Spore</td>\n",
       "      <td>purchase</td>\n",
       "      <td>1.0</td>\n",
       "      <td>0</td>\n",
       "    </tr>\n",
       "    <tr>\n",
       "      <th>4</th>\n",
       "      <td>151603712</td>\n",
       "      <td>Spore</td>\n",
       "      <td>play</td>\n",
       "      <td>14.9</td>\n",
       "      <td>0</td>\n",
       "    </tr>\n",
       "  </tbody>\n",
       "</table>\n",
       "</div>"
      ],
      "text/plain": [
       "          id                        game     state  hours_played  0\n",
       "0  151603712  The Elder Scrolls V Skyrim      play         273.0  0\n",
       "1  151603712                   Fallout 4  purchase           1.0  0\n",
       "2  151603712                   Fallout 4      play          87.0  0\n",
       "3  151603712                       Spore  purchase           1.0  0\n",
       "4  151603712                       Spore      play          14.9  0"
      ]
     },
     "execution_count": 11,
     "metadata": {},
     "output_type": "execute_result"
    }
   ],
   "source": [
    "df.columns = ['id','game','state','hours_played','0']\n",
    "df.head()"
   ]
  },
  {
   "cell_type": "code",
   "execution_count": 17,
   "id": "21368440",
   "metadata": {},
   "outputs": [
    {
     "data": {
      "text/plain": [
       "12393"
      ]
     },
     "execution_count": 17,
     "metadata": {},
     "output_type": "execute_result"
    }
   ],
   "source": [
    "df['id'].nunique()"
   ]
  },
  {
   "cell_type": "markdown",
   "id": "88b7aa00",
   "metadata": {},
   "source": [
    "We have 12393 users in the dataset, which seems to be a good start to create recommendations."
   ]
  },
  {
   "cell_type": "markdown",
   "id": "534f35ee",
   "metadata": {},
   "source": [
    "## Removing the column always equals to 0"
   ]
  },
  {
   "cell_type": "code",
   "execution_count": 13,
   "id": "423a17b3",
   "metadata": {},
   "outputs": [
    {
     "data": {
      "text/html": [
       "<div>\n",
       "<style scoped>\n",
       "    .dataframe tbody tr th:only-of-type {\n",
       "        vertical-align: middle;\n",
       "    }\n",
       "\n",
       "    .dataframe tbody tr th {\n",
       "        vertical-align: top;\n",
       "    }\n",
       "\n",
       "    .dataframe thead th {\n",
       "        text-align: right;\n",
       "    }\n",
       "</style>\n",
       "<table border=\"1\" class=\"dataframe\">\n",
       "  <thead>\n",
       "    <tr style=\"text-align: right;\">\n",
       "      <th></th>\n",
       "      <th>id</th>\n",
       "      <th>game</th>\n",
       "      <th>state</th>\n",
       "      <th>hours_played</th>\n",
       "    </tr>\n",
       "  </thead>\n",
       "  <tbody>\n",
       "    <tr>\n",
       "      <th>0</th>\n",
       "      <td>151603712</td>\n",
       "      <td>The Elder Scrolls V Skyrim</td>\n",
       "      <td>play</td>\n",
       "      <td>273.0</td>\n",
       "    </tr>\n",
       "    <tr>\n",
       "      <th>1</th>\n",
       "      <td>151603712</td>\n",
       "      <td>Fallout 4</td>\n",
       "      <td>purchase</td>\n",
       "      <td>1.0</td>\n",
       "    </tr>\n",
       "    <tr>\n",
       "      <th>2</th>\n",
       "      <td>151603712</td>\n",
       "      <td>Fallout 4</td>\n",
       "      <td>play</td>\n",
       "      <td>87.0</td>\n",
       "    </tr>\n",
       "    <tr>\n",
       "      <th>3</th>\n",
       "      <td>151603712</td>\n",
       "      <td>Spore</td>\n",
       "      <td>purchase</td>\n",
       "      <td>1.0</td>\n",
       "    </tr>\n",
       "    <tr>\n",
       "      <th>4</th>\n",
       "      <td>151603712</td>\n",
       "      <td>Spore</td>\n",
       "      <td>play</td>\n",
       "      <td>14.9</td>\n",
       "    </tr>\n",
       "  </tbody>\n",
       "</table>\n",
       "</div>"
      ],
      "text/plain": [
       "          id                        game     state  hours_played\n",
       "0  151603712  The Elder Scrolls V Skyrim      play         273.0\n",
       "1  151603712                   Fallout 4  purchase           1.0\n",
       "2  151603712                   Fallout 4      play          87.0\n",
       "3  151603712                       Spore  purchase           1.0\n",
       "4  151603712                       Spore      play          14.9"
      ]
     },
     "execution_count": 13,
     "metadata": {},
     "output_type": "execute_result"
    }
   ],
   "source": [
    "df = df.drop('0',axis=1)\n",
    "df.head()"
   ]
  },
  {
   "cell_type": "markdown",
   "id": "329069a4",
   "metadata": {},
   "source": [
    "## Look out for NaN values"
   ]
  },
  {
   "cell_type": "code",
   "execution_count": 14,
   "id": "a5432fc0",
   "metadata": {},
   "outputs": [
    {
     "data": {
      "text/plain": [
       "False"
      ]
     },
     "execution_count": 14,
     "metadata": {},
     "output_type": "execute_result"
    }
   ],
   "source": [
    "df.isnull().values.any()"
   ]
  },
  {
   "cell_type": "markdown",
   "id": "9b46c4e2",
   "metadata": {},
   "source": [
    "There are no NaN values in the dataset"
   ]
  },
  {
   "cell_type": "markdown",
   "id": "efae70f9",
   "metadata": {},
   "source": [
    "## Separate games bought and games played"
   ]
  },
  {
   "cell_type": "code",
   "execution_count": 46,
   "id": "2a4244f2",
   "metadata": {},
   "outputs": [],
   "source": [
    "bought_games = df.loc[df['state']=='purchase']\n",
    "played_games = df.loc[df['state']=='play']"
   ]
  },
  {
   "cell_type": "markdown",
   "id": "75edbaf7",
   "metadata": {},
   "source": [
    "For the bought_games, the hours_played has been set to 1 but it is irrelevant, so we can drop the column"
   ]
  },
  {
   "cell_type": "code",
   "execution_count": 48,
   "id": "a3ec5ddc",
   "metadata": {},
   "outputs": [
    {
     "data": {
      "text/html": [
       "<div>\n",
       "<style scoped>\n",
       "    .dataframe tbody tr th:only-of-type {\n",
       "        vertical-align: middle;\n",
       "    }\n",
       "\n",
       "    .dataframe tbody tr th {\n",
       "        vertical-align: top;\n",
       "    }\n",
       "\n",
       "    .dataframe thead th {\n",
       "        text-align: right;\n",
       "    }\n",
       "</style>\n",
       "<table border=\"1\" class=\"dataframe\">\n",
       "  <thead>\n",
       "    <tr style=\"text-align: right;\">\n",
       "      <th></th>\n",
       "      <th>id</th>\n",
       "      <th>game</th>\n",
       "      <th>state</th>\n",
       "    </tr>\n",
       "  </thead>\n",
       "  <tbody>\n",
       "    <tr>\n",
       "      <th>1</th>\n",
       "      <td>151603712</td>\n",
       "      <td>Fallout 4</td>\n",
       "      <td>purchase</td>\n",
       "    </tr>\n",
       "    <tr>\n",
       "      <th>3</th>\n",
       "      <td>151603712</td>\n",
       "      <td>Spore</td>\n",
       "      <td>purchase</td>\n",
       "    </tr>\n",
       "    <tr>\n",
       "      <th>5</th>\n",
       "      <td>151603712</td>\n",
       "      <td>Fallout New Vegas</td>\n",
       "      <td>purchase</td>\n",
       "    </tr>\n",
       "    <tr>\n",
       "      <th>7</th>\n",
       "      <td>151603712</td>\n",
       "      <td>Left 4 Dead 2</td>\n",
       "      <td>purchase</td>\n",
       "    </tr>\n",
       "    <tr>\n",
       "      <th>9</th>\n",
       "      <td>151603712</td>\n",
       "      <td>HuniePop</td>\n",
       "      <td>purchase</td>\n",
       "    </tr>\n",
       "  </tbody>\n",
       "</table>\n",
       "</div>"
      ],
      "text/plain": [
       "          id               game     state\n",
       "1  151603712          Fallout 4  purchase\n",
       "3  151603712              Spore  purchase\n",
       "5  151603712  Fallout New Vegas  purchase\n",
       "7  151603712      Left 4 Dead 2  purchase\n",
       "9  151603712           HuniePop  purchase"
      ]
     },
     "execution_count": 48,
     "metadata": {},
     "output_type": "execute_result"
    }
   ],
   "source": [
    "bought_games = bought_games.drop('hours_played',axis=1)\n",
    "bought_games.head()"
   ]
  },
  {
   "cell_type": "code",
   "execution_count": 47,
   "id": "fd5903c0",
   "metadata": {},
   "outputs": [
    {
     "data": {
      "text/html": [
       "<div>\n",
       "<style scoped>\n",
       "    .dataframe tbody tr th:only-of-type {\n",
       "        vertical-align: middle;\n",
       "    }\n",
       "\n",
       "    .dataframe tbody tr th {\n",
       "        vertical-align: top;\n",
       "    }\n",
       "\n",
       "    .dataframe thead th {\n",
       "        text-align: right;\n",
       "    }\n",
       "</style>\n",
       "<table border=\"1\" class=\"dataframe\">\n",
       "  <thead>\n",
       "    <tr style=\"text-align: right;\">\n",
       "      <th></th>\n",
       "      <th>id</th>\n",
       "      <th>game</th>\n",
       "      <th>state</th>\n",
       "      <th>hours_played</th>\n",
       "    </tr>\n",
       "  </thead>\n",
       "  <tbody>\n",
       "    <tr>\n",
       "      <th>0</th>\n",
       "      <td>151603712</td>\n",
       "      <td>The Elder Scrolls V Skyrim</td>\n",
       "      <td>play</td>\n",
       "      <td>273.0</td>\n",
       "    </tr>\n",
       "    <tr>\n",
       "      <th>2</th>\n",
       "      <td>151603712</td>\n",
       "      <td>Fallout 4</td>\n",
       "      <td>play</td>\n",
       "      <td>87.0</td>\n",
       "    </tr>\n",
       "    <tr>\n",
       "      <th>4</th>\n",
       "      <td>151603712</td>\n",
       "      <td>Spore</td>\n",
       "      <td>play</td>\n",
       "      <td>14.9</td>\n",
       "    </tr>\n",
       "    <tr>\n",
       "      <th>6</th>\n",
       "      <td>151603712</td>\n",
       "      <td>Fallout New Vegas</td>\n",
       "      <td>play</td>\n",
       "      <td>12.1</td>\n",
       "    </tr>\n",
       "    <tr>\n",
       "      <th>8</th>\n",
       "      <td>151603712</td>\n",
       "      <td>Left 4 Dead 2</td>\n",
       "      <td>play</td>\n",
       "      <td>8.9</td>\n",
       "    </tr>\n",
       "  </tbody>\n",
       "</table>\n",
       "</div>"
      ],
      "text/plain": [
       "          id                        game state  hours_played\n",
       "0  151603712  The Elder Scrolls V Skyrim  play         273.0\n",
       "2  151603712                   Fallout 4  play          87.0\n",
       "4  151603712                       Spore  play          14.9\n",
       "6  151603712           Fallout New Vegas  play          12.1\n",
       "8  151603712               Left 4 Dead 2  play           8.9"
      ]
     },
     "execution_count": 47,
     "metadata": {},
     "output_type": "execute_result"
    }
   ],
   "source": [
    "played_games.head()"
   ]
  },
  {
   "cell_type": "markdown",
   "id": "95fa286f",
   "metadata": {},
   "source": [
    "# Visualizing the data"
   ]
  },
  {
   "cell_type": "code",
   "execution_count": 54,
   "id": "787c53ca",
   "metadata": {},
   "outputs": [],
   "source": [
    "import matplotlib.pyplot as plt"
   ]
  },
  {
   "cell_type": "code",
   "execution_count": 57,
   "id": "c16c69bf",
   "metadata": {},
   "outputs": [
    {
     "data": {
      "text/plain": [
       "Text(0.5, 1.0, 'Density of hours played by player')"
      ]
     },
     "execution_count": 57,
     "metadata": {},
     "output_type": "execute_result"
    },
    {
     "data": {
      "image/png": "[encoded data removed]",
      "text/plain": [
       "<Figure size 432x288 with 1 Axes>"
      ]
     },
     "metadata": {
      "needs_background": "light"
     },
     "output_type": "display_data"
    }
   ],
   "source": [
    "plt.figure()\n",
    "played_games['hours_played'].hist()\n",
    "plt.title('Density of hours played by player')"
   ]
  },
  {
   "cell_type": "code",
   "execution_count": 56,
   "id": "a86f198f",
   "metadata": {},
   "outputs": [
    {
     "data": {
      "text/plain": [
       "Text(0.5, 1.0, 'Density of games owned by player')"
      ]
     },
     "execution_count": 56,
     "metadata": {},
     "output_type": "execute_result"
    },
    {
     "data": {
      "image/png": "[encoded data removed]",
      "text/plain": [
       "<Figure size 432x288 with 1 Axes>"
      ]
     },
     "metadata": {
      "needs_background": "light"
     },
     "output_type": "display_data"
    }
   ],
   "source": [
    "plt.figure()\n",
    "bought_games.groupby(['id'])['game'].count().hist()\n",
    "plt.title('Density of games owned by player')"
   ]
  },
  {
   "cell_type": "markdown",
   "id": "fca70d79",
   "metadata": {},
   "source": [
    "It seems that the distribution is exponential, the majority of players only buy a few games, and play for a few hours. Let's check what happens for the outliers."
   ]
  },
  {
   "cell_type": "code",
   "execution_count": 60,
   "id": "ac6c4c66",
   "metadata": {},
   "outputs": [
    {
     "data": {
      "text/plain": [
       "Text(0.5, 1.0, 'Density of hours played by outlier players')"
      ]
     },
     "execution_count": 60,
     "metadata": {},
     "output_type": "execute_result"
    },
    {
     "data": {
      "image/png": "[encoded data removed]",
      "text/plain": [
       "<Figure size 432x288 with 1 Axes>"
      ]
     },
     "metadata": {
      "needs_background": "light"
     },
     "output_type": "display_data"
    }
   ],
   "source": [
    "plt.figure()\n",
    "played_games.loc[played_games['hours_played']>2000,'hours_played'].hist()\n",
    "plt.title('Density of hours played by outlier players')"
   ]
  },
  {
   "cell_type": "code",
   "execution_count": 61,
   "id": "dac77eee",
   "metadata": {},
   "outputs": [
    {
     "data": {
      "text/plain": [
       "Text(0.5, 1.0, 'Density of games owned by outlier players')"
      ]
     },
     "execution_count": 61,
     "metadata": {},
     "output_type": "execute_result"
    },
    {
     "data": {
      "image/png": "[encoded data removed]",
      "text/plain": [
       "<Figure size 432x288 with 1 Axes>"
      ]
     },
     "metadata": {
      "needs_background": "light"
     },
     "output_type": "display_data"
    }
   ],
   "source": [
    "plt.figure()\n",
    "bought_games.groupby(['id'])['game'].count().loc[bought_games.groupby(['id'])['game'].count()>200].hist()\n",
    "plt.title('Density of games owned by outlier players')"
   ]
  },
  {
   "cell_type": "markdown",
   "id": "d3d67aa3",
   "metadata": {},
   "source": [
    "Even for outliers, the exponential distribution seems to be verified."
   ]
  },
  {
   "cell_type": "markdown",
   "id": "5a013dbd",
   "metadata": {},
   "source": [
    "# Technical ideas\n",
    "## 1- Recommendations on games bought -> cluster players depending on the game they have bought\n",
    "This problem, considering only the games that have been bought, is really similar to the problem of the market basket analysis, and we will thus try to use an apriori algorithm to solve it, which means deducing from the game bought by a person which other games people that buy those usually buy aswell.\n",
    "## 2- Recommendations base on hours played\n",
    "K-NN on players"
   ]
  },
  {
   "cell_type": "markdown",
   "id": "4aa141e0",
   "metadata": {},
   "source": [
    "## 1)"
   ]
  },
  {
   "cell_type": "code",
   "execution_count": 64,
   "id": "a39d9e60",
   "metadata": {},
   "outputs": [],
   "source": [
    "from mlxtend.frequent_patterns import apriori, association_rules"
   ]
  },
  {
   "cell_type": "markdown",
   "id": "26d3021c",
   "metadata": {},
   "source": [
    "To apply the apriori algorithm, we need to rearrange the dataset, with a column for each game and one-hot-encoded lines"
   ]
  },
  {
   "cell_type": "code",
   "execution_count": 73,
   "id": "1b672b95",
   "metadata": {},
   "outputs": [
    {
     "data": {
      "text/plain": [
       "id\n",
       "5250      [Cities Skylines, Deus Ex Human Revolution, Po...\n",
       "76767     [Counter-Strike, Call of Duty World at War, To...\n",
       "86540     [The Elder Scrolls V Skyrim, Audiosurf, XCOM E...\n",
       "103360    [Counter-Strike, Counter-Strike Condition Zero...\n",
       "144736    [Counter-Strike, Day of Defeat, Deathmatch Cla...\n",
       "Name: game, dtype: object"
      ]
     },
     "execution_count": 73,
     "metadata": {},
     "output_type": "execute_result"
    }
   ],
   "source": [
    "#Create lists of games for each player\n",
    "bought_list = bought_games.groupby(['id'])['game'].apply(list)\n",
    "bought_list.head()"
   ]
  },
  {
   "cell_type": "code",
   "execution_count": 95,
   "id": "e01868a2",
   "metadata": {},
   "outputs": [
    {
     "data": {
      "text/html": [
       "<div>\n",
       "<style scoped>\n",
       "    .dataframe tbody tr th:only-of-type {\n",
       "        vertical-align: middle;\n",
       "    }\n",
       "\n",
       "    .dataframe tbody tr th {\n",
       "        vertical-align: top;\n",
       "    }\n",
       "\n",
       "    .dataframe thead th {\n",
       "        text-align: right;\n",
       "    }\n",
       "</style>\n",
       "<table border=\"1\" class=\"dataframe\">\n",
       "  <thead>\n",
       "    <tr style=\"text-align: right;\">\n",
       "      <th></th>\n",
       "      <th>007 Legends</th>\n",
       "      <th>0RBITALIS</th>\n",
       "      <th>1... 2... 3... KICK IT! (Drop That Beat Like an Ugly Baby)</th>\n",
       "      <th>10 Second Ninja</th>\n",
       "      <th>10,000,000</th>\n",
       "      <th>100% Orange Juice</th>\n",
       "      <th>1000 Amps</th>\n",
       "      <th>12 Labours of Hercules</th>\n",
       "      <th>12 Labours of Hercules II The Cretan Bull</th>\n",
       "      <th>12 Labours of Hercules III Girl Power</th>\n",
       "      <th>...</th>\n",
       "      <th>rFactor 2</th>\n",
       "      <th>realMyst</th>\n",
       "      <th>realMyst Masterpiece Edition</th>\n",
       "      <th>resident evil 4 / biohazard 4</th>\n",
       "      <th>rymdkapsel</th>\n",
       "      <th>sZone-Online</th>\n",
       "      <th>samurai_jazz</th>\n",
       "      <th>the static speaks my name</th>\n",
       "      <th>theHunter</th>\n",
       "      <th>theHunter Primal</th>\n",
       "    </tr>\n",
       "  </thead>\n",
       "  <tbody>\n",
       "    <tr>\n",
       "      <th>0</th>\n",
       "      <td>0</td>\n",
       "      <td>0</td>\n",
       "      <td>0</td>\n",
       "      <td>0</td>\n",
       "      <td>0</td>\n",
       "      <td>0</td>\n",
       "      <td>0</td>\n",
       "      <td>0</td>\n",
       "      <td>0</td>\n",
       "      <td>0</td>\n",
       "      <td>...</td>\n",
       "      <td>0</td>\n",
       "      <td>0</td>\n",
       "      <td>0</td>\n",
       "      <td>0</td>\n",
       "      <td>0</td>\n",
       "      <td>0</td>\n",
       "      <td>0</td>\n",
       "      <td>0</td>\n",
       "      <td>0</td>\n",
       "      <td>0</td>\n",
       "    </tr>\n",
       "    <tr>\n",
       "      <th>1</th>\n",
       "      <td>0</td>\n",
       "      <td>0</td>\n",
       "      <td>0</td>\n",
       "      <td>0</td>\n",
       "      <td>0</td>\n",
       "      <td>0</td>\n",
       "      <td>0</td>\n",
       "      <td>0</td>\n",
       "      <td>0</td>\n",
       "      <td>0</td>\n",
       "      <td>...</td>\n",
       "      <td>0</td>\n",
       "      <td>0</td>\n",
       "      <td>0</td>\n",
       "      <td>0</td>\n",
       "      <td>0</td>\n",
       "      <td>0</td>\n",
       "      <td>0</td>\n",
       "      <td>0</td>\n",
       "      <td>0</td>\n",
       "      <td>0</td>\n",
       "    </tr>\n",
       "    <tr>\n",
       "      <th>2</th>\n",
       "      <td>0</td>\n",
       "      <td>0</td>\n",
       "      <td>0</td>\n",
       "      <td>0</td>\n",
       "      <td>0</td>\n",
       "      <td>0</td>\n",
       "      <td>0</td>\n",
       "      <td>0</td>\n",
       "      <td>0</td>\n",
       "      <td>0</td>\n",
       "      <td>...</td>\n",
       "      <td>0</td>\n",
       "      <td>0</td>\n",
       "      <td>0</td>\n",
       "      <td>0</td>\n",
       "      <td>0</td>\n",
       "      <td>0</td>\n",
       "      <td>0</td>\n",
       "      <td>0</td>\n",
       "      <td>0</td>\n",
       "      <td>0</td>\n",
       "    </tr>\n",
       "    <tr>\n",
       "      <th>3</th>\n",
       "      <td>0</td>\n",
       "      <td>0</td>\n",
       "      <td>0</td>\n",
       "      <td>0</td>\n",
       "      <td>0</td>\n",
       "      <td>0</td>\n",
       "      <td>0</td>\n",
       "      <td>0</td>\n",
       "      <td>0</td>\n",
       "      <td>0</td>\n",
       "      <td>...</td>\n",
       "      <td>0</td>\n",
       "      <td>0</td>\n",
       "      <td>0</td>\n",
       "      <td>0</td>\n",
       "      <td>0</td>\n",
       "      <td>0</td>\n",
       "      <td>0</td>\n",
       "      <td>0</td>\n",
       "      <td>0</td>\n",
       "      <td>0</td>\n",
       "    </tr>\n",
       "    <tr>\n",
       "      <th>4</th>\n",
       "      <td>0</td>\n",
       "      <td>0</td>\n",
       "      <td>0</td>\n",
       "      <td>0</td>\n",
       "      <td>0</td>\n",
       "      <td>0</td>\n",
       "      <td>0</td>\n",
       "      <td>0</td>\n",
       "      <td>0</td>\n",
       "      <td>0</td>\n",
       "      <td>...</td>\n",
       "      <td>0</td>\n",
       "      <td>0</td>\n",
       "      <td>0</td>\n",
       "      <td>0</td>\n",
       "      <td>0</td>\n",
       "      <td>0</td>\n",
       "      <td>0</td>\n",
       "      <td>0</td>\n",
       "      <td>0</td>\n",
       "      <td>0</td>\n",
       "    </tr>\n",
       "  </tbody>\n",
       "</table>\n",
       "<p>5 rows × 5155 columns</p>\n",
       "</div>"
      ],
      "text/plain": [
       "   007 Legends  0RBITALIS  \\\n",
       "0            0          0   \n",
       "1            0          0   \n",
       "2            0          0   \n",
       "3            0          0   \n",
       "4            0          0   \n",
       "\n",
       "   1... 2... 3... KICK IT! (Drop That Beat Like an Ugly Baby)  \\\n",
       "0                                                  0            \n",
       "1                                                  0            \n",
       "2                                                  0            \n",
       "3                                                  0            \n",
       "4                                                  0            \n",
       "\n",
       "   10 Second Ninja  10,000,000  100% Orange Juice  1000 Amps  \\\n",
       "0                0           0                  0          0   \n",
       "1                0           0                  0          0   \n",
       "2                0           0                  0          0   \n",
       "3                0           0                  0          0   \n",
       "4                0           0                  0          0   \n",
       "\n",
       "   12 Labours of Hercules  12 Labours of Hercules II The Cretan Bull  \\\n",
       "0                       0                                          0   \n",
       "1                       0                                          0   \n",
       "2                       0                                          0   \n",
       "3                       0                                          0   \n",
       "4                       0                                          0   \n",
       "\n",
       "   12 Labours of Hercules III Girl Power  ...  rFactor 2  realMyst  \\\n",
       "0                                      0  ...          0         0   \n",
       "1                                      0  ...          0         0   \n",
       "2                                      0  ...          0         0   \n",
       "3                                      0  ...          0         0   \n",
       "4                                      0  ...          0         0   \n",
       "\n",
       "   realMyst Masterpiece Edition  resident evil 4 / biohazard 4  rymdkapsel  \\\n",
       "0                             0                              0           0   \n",
       "1                             0                              0           0   \n",
       "2                             0                              0           0   \n",
       "3                             0                              0           0   \n",
       "4                             0                              0           0   \n",
       "\n",
       "   sZone-Online  samurai_jazz  the static speaks my name  theHunter  \\\n",
       "0             0             0                          0          0   \n",
       "1             0             0                          0          0   \n",
       "2             0             0                          0          0   \n",
       "3             0             0                          0          0   \n",
       "4             0             0                          0          0   \n",
       "\n",
       "   theHunter Primal  \n",
       "0                 0  \n",
       "1                 0  \n",
       "2                 0  \n",
       "3                 0  \n",
       "4                 0  \n",
       "\n",
       "[5 rows x 5155 columns]"
      ]
     },
     "execution_count": 95,
     "metadata": {},
     "output_type": "execute_result"
    }
   ],
   "source": [
    "from sklearn.preprocessing import MultiLabelBinarizer\n",
    "#One-hot-encode the lists\n",
    "mlb = MultiLabelBinarizer()\n",
    "\n",
    "bought_encoded = pd.DataFrame(mlb.fit_transform(bought_list),\n",
    "                   columns=mlb.classes_)\n",
    "\n",
    "#The id of the player is no more needed\n",
    "bought_encoded.head()"
   ]
  },
  {
   "cell_type": "code",
   "execution_count": 138,
   "id": "46237297",
   "metadata": {},
   "outputs": [
    {
     "name": "stderr",
     "output_type": "stream",
     "text": [
      "/home/vincent/anaconda3/lib/python3.9/site-packages/mlxtend/frequent_patterns/fpcommon.py:111: DeprecationWarning: DataFrames with non-bool types result in worse computationalperformance and their support might be discontinued in the future.Please use a DataFrame with bool type\n",
      "  warnings.warn(\n"
     ]
    },
    {
     "data": {
      "text/html": [
       "<div>\n",
       "<style scoped>\n",
       "    .dataframe tbody tr th:only-of-type {\n",
       "        vertical-align: middle;\n",
       "    }\n",
       "\n",
       "    .dataframe tbody tr th {\n",
       "        vertical-align: top;\n",
       "    }\n",
       "\n",
       "    .dataframe thead th {\n",
       "        text-align: right;\n",
       "    }\n",
       "</style>\n",
       "<table border=\"1\" class=\"dataframe\">\n",
       "  <thead>\n",
       "    <tr style=\"text-align: right;\">\n",
       "      <th></th>\n",
       "      <th>antecedents</th>\n",
       "      <th>consequents</th>\n",
       "      <th>antecedent support</th>\n",
       "      <th>consequent support</th>\n",
       "      <th>support</th>\n",
       "      <th>confidence</th>\n",
       "      <th>lift</th>\n",
       "      <th>leverage</th>\n",
       "      <th>conviction</th>\n",
       "    </tr>\n",
       "  </thead>\n",
       "  <tbody>\n",
       "    <tr>\n",
       "      <th>0</th>\n",
       "      <td>(Arma 2 Operation Arrowhead Beta (Obsolete))</td>\n",
       "      <td>(Arma 2 Operation Arrowhead)</td>\n",
       "      <td>0.020173</td>\n",
       "      <td>0.020173</td>\n",
       "      <td>0.020173</td>\n",
       "      <td>1.0</td>\n",
       "      <td>49.572000</td>\n",
       "      <td>0.019766</td>\n",
       "      <td>inf</td>\n",
       "    </tr>\n",
       "    <tr>\n",
       "      <th>1</th>\n",
       "      <td>(Arma 2 Operation Arrowhead)</td>\n",
       "      <td>(Arma 2 Operation Arrowhead Beta (Obsolete))</td>\n",
       "      <td>0.020173</td>\n",
       "      <td>0.020173</td>\n",
       "      <td>0.020173</td>\n",
       "      <td>1.0</td>\n",
       "      <td>49.572000</td>\n",
       "      <td>0.019766</td>\n",
       "      <td>inf</td>\n",
       "    </tr>\n",
       "    <tr>\n",
       "      <th>6</th>\n",
       "      <td>(Call of Duty Black Ops - Multiplayer)</td>\n",
       "      <td>(Call of Duty Black Ops)</td>\n",
       "      <td>0.020495</td>\n",
       "      <td>0.020495</td>\n",
       "      <td>0.020495</td>\n",
       "      <td>1.0</td>\n",
       "      <td>48.791339</td>\n",
       "      <td>0.020075</td>\n",
       "      <td>inf</td>\n",
       "    </tr>\n",
       "    <tr>\n",
       "      <th>7</th>\n",
       "      <td>(Call of Duty Black Ops)</td>\n",
       "      <td>(Call of Duty Black Ops - Multiplayer)</td>\n",
       "      <td>0.020495</td>\n",
       "      <td>0.020495</td>\n",
       "      <td>0.020495</td>\n",
       "      <td>1.0</td>\n",
       "      <td>48.791339</td>\n",
       "      <td>0.020075</td>\n",
       "      <td>inf</td>\n",
       "    </tr>\n",
       "    <tr>\n",
       "      <th>2110</th>\n",
       "      <td>(Ricochet, Half-Life Opposing Force)</td>\n",
       "      <td>(Half-Life Blue Shift, Deathmatch Classic)</td>\n",
       "      <td>0.023400</td>\n",
       "      <td>0.023400</td>\n",
       "      <td>0.023400</td>\n",
       "      <td>1.0</td>\n",
       "      <td>42.734483</td>\n",
       "      <td>0.022853</td>\n",
       "      <td>inf</td>\n",
       "    </tr>\n",
       "  </tbody>\n",
       "</table>\n",
       "</div>"
      ],
      "text/plain": [
       "                                       antecedents  \\\n",
       "0     (Arma 2 Operation Arrowhead Beta (Obsolete))   \n",
       "1                     (Arma 2 Operation Arrowhead)   \n",
       "6           (Call of Duty Black Ops - Multiplayer)   \n",
       "7                         (Call of Duty Black Ops)   \n",
       "2110          (Ricochet, Half-Life Opposing Force)   \n",
       "\n",
       "                                       consequents  antecedent support  \\\n",
       "0                     (Arma 2 Operation Arrowhead)            0.020173   \n",
       "1     (Arma 2 Operation Arrowhead Beta (Obsolete))            0.020173   \n",
       "6                         (Call of Duty Black Ops)            0.020495   \n",
       "7           (Call of Duty Black Ops - Multiplayer)            0.020495   \n",
       "2110    (Half-Life Blue Shift, Deathmatch Classic)            0.023400   \n",
       "\n",
       "      consequent support   support  confidence       lift  leverage  \\\n",
       "0               0.020173  0.020173         1.0  49.572000  0.019766   \n",
       "1               0.020173  0.020173         1.0  49.572000  0.019766   \n",
       "6               0.020495  0.020495         1.0  48.791339  0.020075   \n",
       "7               0.020495  0.020495         1.0  48.791339  0.020075   \n",
       "2110            0.023400  0.023400         1.0  42.734483  0.022853   \n",
       "\n",
       "      conviction  \n",
       "0            inf  \n",
       "1            inf  \n",
       "6            inf  \n",
       "7            inf  \n",
       "2110         inf  "
      ]
     },
     "execution_count": 138,
     "metadata": {},
     "output_type": "execute_result"
    }
   ],
   "source": [
    "frq_items = apriori(bought_encoded, min_support = 0.02, use_colnames = True)\n",
    "  \n",
    "# Collecting the inferred rules in a dataframe\n",
    "rules = association_rules(frq_items, metric =\"lift\", min_threshold = 0.8)\n",
    "rules = rules.sort_values(['confidence', 'lift'], ascending =[False, False])\n",
    "rules.head()"
   ]
  },
  {
   "cell_type": "code",
   "execution_count": 139,
   "id": "3f7dac20",
   "metadata": {},
   "outputs": [
    {
     "data": {
      "text/plain": [
       "7266"
      ]
     },
     "execution_count": 139,
     "metadata": {},
     "output_type": "execute_result"
    }
   ],
   "source": [
    "len(rules)"
   ]
  },
  {
   "cell_type": "code",
   "execution_count": 142,
   "id": "09ec9551",
   "metadata": {},
   "outputs": [
    {
     "data": {
      "text/plain": [
       "antecedents           (Ricochet, Half-Life, Team Fortress Classic)\n",
       "consequents             (Half-Life Blue Shift, Deathmatch Classic)\n",
       "antecedent support                                          0.0234\n",
       "consequent support                                          0.0234\n",
       "support                                                     0.0234\n",
       "confidence                                                     1.0\n",
       "lift                                                     42.734483\n",
       "leverage                                                  0.022853\n",
       "conviction                                                     inf\n",
       "Name: 4069, dtype: object"
      ]
     },
     "execution_count": 142,
     "metadata": {},
     "output_type": "execute_result"
    }
   ],
   "source": [
    "rules.iloc[75]"
   ]
  },
  {
   "cell_type": "markdown",
   "id": "4696e487",
   "metadata": {},
   "source": [
    "**Note : tests avec les frequent itemsets -> séparer en training/test, pour le test : supprimer un élément du basket, et prédire cet élément avec les règles -> utiliser les métriques classiques de prédiction**"
   ]
  }
 ],
 "metadata": {
  "kernelspec": {
   "display_name": "base",
   "language": "python",
   "name": "base"
  },
  "language_info": {
   "codemirror_mode": {
    "name": "ipython",
    "version": 3
   },
   "file_extension": ".py",
   "mimetype": "text/x-python",
   "name": "python",
   "nbconvert_exporter": "python",
   "pygments_lexer": "ipython3",
   "version": "3.9.7"
  }
 },
 "nbformat": 4,
 "nbformat_minor": 5
}
