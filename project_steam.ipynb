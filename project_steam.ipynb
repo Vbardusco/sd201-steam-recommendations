{
 "cells": [
  {
   "cell_type": "markdown",
   "id": "15ca36ea",
   "metadata": {},
   "source": [
    "# SD201 project"
   ]
  },
  {
   "cell_type": "markdown",
   "id": "b800d60e",
   "metadata": {},
   "source": [
    "- Create dataset from scraping with steam api\n",
    "- Make apriori algorithm on bought games\n",
    "- Make knn algorithm on hours played\n",
    "- Use steam api to make recommendations to a player"
   ]
  },
  {
   "cell_type": "markdown",
   "id": "041824a1",
   "metadata": {},
   "source": [
    "# Formulate the question"
   ]
  },
  {
   "cell_type": "markdown",
   "id": "dae81850",
   "metadata": {},
   "source": [
    "Knowing the games someone bought and how many hours they played it on Steam, what are the other games they could like and thus potentially buy ?"
   ]
  },
  {
   "cell_type": "markdown",
   "id": "7e32a8e2",
   "metadata": {},
   "source": [
    "# Finding the dataset"
   ]
  },
  {
   "cell_type": "markdown",
   "id": "298c68aa",
   "metadata": {},
   "source": [
    "We'll first test the algorithms on an already existing dataset, and we will then try to create our own dataset with Steam's api."
   ]
  },
  {
   "cell_type": "markdown",
   "id": "1dbac79b",
   "metadata": {},
   "source": [
    "We choose this dataset : https://www.kaggle.com/datasets/tamber/steam-video-games.  \n",
    "Indeed, it gives us a huge amount of users with their bought and played games on Steam, which will enable us to predict what kind of games they like (supposing that the more someone plays a game, the more he likes it), "
   ]
  },
  {
   "cell_type": "code",
   "execution_count": 201,
   "id": "f65529d6",
   "metadata": {},
   "outputs": [],
   "source": [
    "import pandas as pd\n",
    "import numpy as np"
   ]
  },
  {
   "cell_type": "code",
   "execution_count": 2,
   "id": "c19ffb5a",
   "metadata": {},
   "outputs": [],
   "source": [
    "df = pd.read_csv('steam-200k.csv')"
   ]
  },
  {
   "cell_type": "code",
   "execution_count": 3,
   "id": "8a975975",
   "metadata": {},
   "outputs": [
    {
     "data": {
      "text/html": [
       "<div>\n",
       "<style scoped>\n",
       "    .dataframe tbody tr th:only-of-type {\n",
       "        vertical-align: middle;\n",
       "    }\n",
       "\n",
       "    .dataframe tbody tr th {\n",
       "        vertical-align: top;\n",
       "    }\n",
       "\n",
       "    .dataframe thead th {\n",
       "        text-align: right;\n",
       "    }\n",
       "</style>\n",
       "<table border=\"1\" class=\"dataframe\">\n",
       "  <thead>\n",
       "    <tr style=\"text-align: right;\">\n",
       "      <th></th>\n",
       "      <th>151603712</th>\n",
       "      <th>The Elder Scrolls V Skyrim</th>\n",
       "      <th>purchase</th>\n",
       "      <th>1.0</th>\n",
       "      <th>0</th>\n",
       "    </tr>\n",
       "  </thead>\n",
       "  <tbody>\n",
       "    <tr>\n",
       "      <th>0</th>\n",
       "      <td>151603712</td>\n",
       "      <td>The Elder Scrolls V Skyrim</td>\n",
       "      <td>play</td>\n",
       "      <td>273.0</td>\n",
       "      <td>0</td>\n",
       "    </tr>\n",
       "    <tr>\n",
       "      <th>1</th>\n",
       "      <td>151603712</td>\n",
       "      <td>Fallout 4</td>\n",
       "      <td>purchase</td>\n",
       "      <td>1.0</td>\n",
       "      <td>0</td>\n",
       "    </tr>\n",
       "    <tr>\n",
       "      <th>2</th>\n",
       "      <td>151603712</td>\n",
       "      <td>Fallout 4</td>\n",
       "      <td>play</td>\n",
       "      <td>87.0</td>\n",
       "      <td>0</td>\n",
       "    </tr>\n",
       "    <tr>\n",
       "      <th>3</th>\n",
       "      <td>151603712</td>\n",
       "      <td>Spore</td>\n",
       "      <td>purchase</td>\n",
       "      <td>1.0</td>\n",
       "      <td>0</td>\n",
       "    </tr>\n",
       "    <tr>\n",
       "      <th>4</th>\n",
       "      <td>151603712</td>\n",
       "      <td>Spore</td>\n",
       "      <td>play</td>\n",
       "      <td>14.9</td>\n",
       "      <td>0</td>\n",
       "    </tr>\n",
       "  </tbody>\n",
       "</table>\n",
       "</div>"
      ],
      "text/plain": [
       "   151603712  The Elder Scrolls V Skyrim  purchase    1.0  0\n",
       "0  151603712  The Elder Scrolls V Skyrim      play  273.0  0\n",
       "1  151603712                   Fallout 4  purchase    1.0  0\n",
       "2  151603712                   Fallout 4      play   87.0  0\n",
       "3  151603712                       Spore  purchase    1.0  0\n",
       "4  151603712                       Spore      play   14.9  0"
      ]
     },
     "execution_count": 3,
     "metadata": {},
     "output_type": "execute_result"
    }
   ],
   "source": [
    "df.head()"
   ]
  },
  {
   "cell_type": "code",
   "execution_count": 4,
   "id": "b18f4608",
   "metadata": {},
   "outputs": [
    {
     "data": {
      "text/html": [
       "<div>\n",
       "<style scoped>\n",
       "    .dataframe tbody tr th:only-of-type {\n",
       "        vertical-align: middle;\n",
       "    }\n",
       "\n",
       "    .dataframe tbody tr th {\n",
       "        vertical-align: top;\n",
       "    }\n",
       "\n",
       "    .dataframe thead th {\n",
       "        text-align: right;\n",
       "    }\n",
       "</style>\n",
       "<table border=\"1\" class=\"dataframe\">\n",
       "  <thead>\n",
       "    <tr style=\"text-align: right;\">\n",
       "      <th></th>\n",
       "      <th>151603712</th>\n",
       "      <th>1.0</th>\n",
       "      <th>0</th>\n",
       "    </tr>\n",
       "  </thead>\n",
       "  <tbody>\n",
       "    <tr>\n",
       "      <th>count</th>\n",
       "      <td>1.999990e+05</td>\n",
       "      <td>199999.000000</td>\n",
       "      <td>199999.0</td>\n",
       "    </tr>\n",
       "    <tr>\n",
       "      <th>mean</th>\n",
       "      <td>1.036556e+08</td>\n",
       "      <td>17.874468</td>\n",
       "      <td>0.0</td>\n",
       "    </tr>\n",
       "    <tr>\n",
       "      <th>std</th>\n",
       "      <td>7.208084e+07</td>\n",
       "      <td>138.057292</td>\n",
       "      <td>0.0</td>\n",
       "    </tr>\n",
       "    <tr>\n",
       "      <th>min</th>\n",
       "      <td>5.250000e+03</td>\n",
       "      <td>0.100000</td>\n",
       "      <td>0.0</td>\n",
       "    </tr>\n",
       "    <tr>\n",
       "      <th>25%</th>\n",
       "      <td>4.738420e+07</td>\n",
       "      <td>1.000000</td>\n",
       "      <td>0.0</td>\n",
       "    </tr>\n",
       "    <tr>\n",
       "      <th>50%</th>\n",
       "      <td>8.691201e+07</td>\n",
       "      <td>1.000000</td>\n",
       "      <td>0.0</td>\n",
       "    </tr>\n",
       "    <tr>\n",
       "      <th>75%</th>\n",
       "      <td>1.542309e+08</td>\n",
       "      <td>1.300000</td>\n",
       "      <td>0.0</td>\n",
       "    </tr>\n",
       "    <tr>\n",
       "      <th>max</th>\n",
       "      <td>3.099031e+08</td>\n",
       "      <td>11754.000000</td>\n",
       "      <td>0.0</td>\n",
       "    </tr>\n",
       "  </tbody>\n",
       "</table>\n",
       "</div>"
      ],
      "text/plain": [
       "          151603712            1.0         0\n",
       "count  1.999990e+05  199999.000000  199999.0\n",
       "mean   1.036556e+08      17.874468       0.0\n",
       "std    7.208084e+07     138.057292       0.0\n",
       "min    5.250000e+03       0.100000       0.0\n",
       "25%    4.738420e+07       1.000000       0.0\n",
       "50%    8.691201e+07       1.000000       0.0\n",
       "75%    1.542309e+08       1.300000       0.0\n",
       "max    3.099031e+08   11754.000000       0.0"
      ]
     },
     "execution_count": 4,
     "metadata": {},
     "output_type": "execute_result"
    }
   ],
   "source": [
    "df.describe()"
   ]
  },
  {
   "cell_type": "markdown",
   "id": "173481fb",
   "metadata": {},
   "source": [
    "The dataset cumulates 2 000 000 hours played, which seems enough, and we will check the number of users when the data will be a little bit cleaner."
   ]
  },
  {
   "cell_type": "markdown",
   "id": "0490f729",
   "metadata": {},
   "source": [
    "# Cleaning the data"
   ]
  },
  {
   "cell_type": "markdown",
   "id": "2395b4e4",
   "metadata": {},
   "source": [
    "## Renaming the columns"
   ]
  },
  {
   "cell_type": "code",
   "execution_count": 5,
   "id": "9097b2b3",
   "metadata": {},
   "outputs": [
    {
     "data": {
      "text/html": [
       "<div>\n",
       "<style scoped>\n",
       "    .dataframe tbody tr th:only-of-type {\n",
       "        vertical-align: middle;\n",
       "    }\n",
       "\n",
       "    .dataframe tbody tr th {\n",
       "        vertical-align: top;\n",
       "    }\n",
       "\n",
       "    .dataframe thead th {\n",
       "        text-align: right;\n",
       "    }\n",
       "</style>\n",
       "<table border=\"1\" class=\"dataframe\">\n",
       "  <thead>\n",
       "    <tr style=\"text-align: right;\">\n",
       "      <th></th>\n",
       "      <th>id</th>\n",
       "      <th>game</th>\n",
       "      <th>state</th>\n",
       "      <th>hours_played</th>\n",
       "      <th>0</th>\n",
       "    </tr>\n",
       "  </thead>\n",
       "  <tbody>\n",
       "    <tr>\n",
       "      <th>0</th>\n",
       "      <td>151603712</td>\n",
       "      <td>The Elder Scrolls V Skyrim</td>\n",
       "      <td>play</td>\n",
       "      <td>273.0</td>\n",
       "      <td>0</td>\n",
       "    </tr>\n",
       "    <tr>\n",
       "      <th>1</th>\n",
       "      <td>151603712</td>\n",
       "      <td>Fallout 4</td>\n",
       "      <td>purchase</td>\n",
       "      <td>1.0</td>\n",
       "      <td>0</td>\n",
       "    </tr>\n",
       "    <tr>\n",
       "      <th>2</th>\n",
       "      <td>151603712</td>\n",
       "      <td>Fallout 4</td>\n",
       "      <td>play</td>\n",
       "      <td>87.0</td>\n",
       "      <td>0</td>\n",
       "    </tr>\n",
       "    <tr>\n",
       "      <th>3</th>\n",
       "      <td>151603712</td>\n",
       "      <td>Spore</td>\n",
       "      <td>purchase</td>\n",
       "      <td>1.0</td>\n",
       "      <td>0</td>\n",
       "    </tr>\n",
       "    <tr>\n",
       "      <th>4</th>\n",
       "      <td>151603712</td>\n",
       "      <td>Spore</td>\n",
       "      <td>play</td>\n",
       "      <td>14.9</td>\n",
       "      <td>0</td>\n",
       "    </tr>\n",
       "  </tbody>\n",
       "</table>\n",
       "</div>"
      ],
      "text/plain": [
       "          id                        game     state  hours_played  0\n",
       "0  151603712  The Elder Scrolls V Skyrim      play         273.0  0\n",
       "1  151603712                   Fallout 4  purchase           1.0  0\n",
       "2  151603712                   Fallout 4      play          87.0  0\n",
       "3  151603712                       Spore  purchase           1.0  0\n",
       "4  151603712                       Spore      play          14.9  0"
      ]
     },
     "execution_count": 5,
     "metadata": {},
     "output_type": "execute_result"
    }
   ],
   "source": [
    "df.columns = ['id','game','state','hours_played','0']\n",
    "df.head()"
   ]
  },
  {
   "cell_type": "code",
   "execution_count": 6,
   "id": "21368440",
   "metadata": {},
   "outputs": [
    {
     "data": {
      "text/plain": [
       "12393"
      ]
     },
     "execution_count": 6,
     "metadata": {},
     "output_type": "execute_result"
    }
   ],
   "source": [
    "df['id'].nunique()"
   ]
  },
  {
   "cell_type": "markdown",
   "id": "88b7aa00",
   "metadata": {},
   "source": [
    "We have 12393 users in the dataset, which seems to be a good start to create recommendations."
   ]
  },
  {
   "cell_type": "markdown",
   "id": "534f35ee",
   "metadata": {},
   "source": [
    "## Removing the column always equals to 0"
   ]
  },
  {
   "cell_type": "code",
   "execution_count": 7,
   "id": "423a17b3",
   "metadata": {},
   "outputs": [
    {
     "data": {
      "text/html": [
       "<div>\n",
       "<style scoped>\n",
       "    .dataframe tbody tr th:only-of-type {\n",
       "        vertical-align: middle;\n",
       "    }\n",
       "\n",
       "    .dataframe tbody tr th {\n",
       "        vertical-align: top;\n",
       "    }\n",
       "\n",
       "    .dataframe thead th {\n",
       "        text-align: right;\n",
       "    }\n",
       "</style>\n",
       "<table border=\"1\" class=\"dataframe\">\n",
       "  <thead>\n",
       "    <tr style=\"text-align: right;\">\n",
       "      <th></th>\n",
       "      <th>id</th>\n",
       "      <th>game</th>\n",
       "      <th>state</th>\n",
       "      <th>hours_played</th>\n",
       "    </tr>\n",
       "  </thead>\n",
       "  <tbody>\n",
       "    <tr>\n",
       "      <th>0</th>\n",
       "      <td>151603712</td>\n",
       "      <td>The Elder Scrolls V Skyrim</td>\n",
       "      <td>play</td>\n",
       "      <td>273.0</td>\n",
       "    </tr>\n",
       "    <tr>\n",
       "      <th>1</th>\n",
       "      <td>151603712</td>\n",
       "      <td>Fallout 4</td>\n",
       "      <td>purchase</td>\n",
       "      <td>1.0</td>\n",
       "    </tr>\n",
       "    <tr>\n",
       "      <th>2</th>\n",
       "      <td>151603712</td>\n",
       "      <td>Fallout 4</td>\n",
       "      <td>play</td>\n",
       "      <td>87.0</td>\n",
       "    </tr>\n",
       "    <tr>\n",
       "      <th>3</th>\n",
       "      <td>151603712</td>\n",
       "      <td>Spore</td>\n",
       "      <td>purchase</td>\n",
       "      <td>1.0</td>\n",
       "    </tr>\n",
       "    <tr>\n",
       "      <th>4</th>\n",
       "      <td>151603712</td>\n",
       "      <td>Spore</td>\n",
       "      <td>play</td>\n",
       "      <td>14.9</td>\n",
       "    </tr>\n",
       "  </tbody>\n",
       "</table>\n",
       "</div>"
      ],
      "text/plain": [
       "          id                        game     state  hours_played\n",
       "0  151603712  The Elder Scrolls V Skyrim      play         273.0\n",
       "1  151603712                   Fallout 4  purchase           1.0\n",
       "2  151603712                   Fallout 4      play          87.0\n",
       "3  151603712                       Spore  purchase           1.0\n",
       "4  151603712                       Spore      play          14.9"
      ]
     },
     "execution_count": 7,
     "metadata": {},
     "output_type": "execute_result"
    }
   ],
   "source": [
    "df = df.drop('0',axis=1)\n",
    "df.head()"
   ]
  },
  {
   "cell_type": "markdown",
   "id": "329069a4",
   "metadata": {},
   "source": [
    "## Look out for NaN values"
   ]
  },
  {
   "cell_type": "code",
   "execution_count": 8,
   "id": "a5432fc0",
   "metadata": {},
   "outputs": [
    {
     "data": {
      "text/plain": [
       "False"
      ]
     },
     "execution_count": 8,
     "metadata": {},
     "output_type": "execute_result"
    }
   ],
   "source": [
    "df.isnull().values.any()"
   ]
  },
  {
   "cell_type": "markdown",
   "id": "9b46c4e2",
   "metadata": {},
   "source": [
    "There are no NaN values in the dataset"
   ]
  },
  {
   "cell_type": "markdown",
   "id": "efae70f9",
   "metadata": {},
   "source": [
    "## Separate games bought and games played"
   ]
  },
  {
   "cell_type": "code",
   "execution_count": 9,
   "id": "2a4244f2",
   "metadata": {},
   "outputs": [],
   "source": [
    "bought_games = df.loc[df['state']=='purchase']\n",
    "played_games = df.loc[df['state']=='play']"
   ]
  },
  {
   "cell_type": "markdown",
   "id": "75edbaf7",
   "metadata": {},
   "source": [
    "For the bought_games, the hours_played has been set to 1 but it is irrelevant, so we can drop the column"
   ]
  },
  {
   "cell_type": "code",
   "execution_count": 10,
   "id": "a3ec5ddc",
   "metadata": {},
   "outputs": [
    {
     "data": {
      "text/html": [
       "<div>\n",
       "<style scoped>\n",
       "    .dataframe tbody tr th:only-of-type {\n",
       "        vertical-align: middle;\n",
       "    }\n",
       "\n",
       "    .dataframe tbody tr th {\n",
       "        vertical-align: top;\n",
       "    }\n",
       "\n",
       "    .dataframe thead th {\n",
       "        text-align: right;\n",
       "    }\n",
       "</style>\n",
       "<table border=\"1\" class=\"dataframe\">\n",
       "  <thead>\n",
       "    <tr style=\"text-align: right;\">\n",
       "      <th></th>\n",
       "      <th>id</th>\n",
       "      <th>game</th>\n",
       "    </tr>\n",
       "  </thead>\n",
       "  <tbody>\n",
       "    <tr>\n",
       "      <th>1</th>\n",
       "      <td>151603712</td>\n",
       "      <td>Fallout 4</td>\n",
       "    </tr>\n",
       "    <tr>\n",
       "      <th>3</th>\n",
       "      <td>151603712</td>\n",
       "      <td>Spore</td>\n",
       "    </tr>\n",
       "    <tr>\n",
       "      <th>5</th>\n",
       "      <td>151603712</td>\n",
       "      <td>Fallout New Vegas</td>\n",
       "    </tr>\n",
       "    <tr>\n",
       "      <th>7</th>\n",
       "      <td>151603712</td>\n",
       "      <td>Left 4 Dead 2</td>\n",
       "    </tr>\n",
       "    <tr>\n",
       "      <th>9</th>\n",
       "      <td>151603712</td>\n",
       "      <td>HuniePop</td>\n",
       "    </tr>\n",
       "  </tbody>\n",
       "</table>\n",
       "</div>"
      ],
      "text/plain": [
       "          id               game\n",
       "1  151603712          Fallout 4\n",
       "3  151603712              Spore\n",
       "5  151603712  Fallout New Vegas\n",
       "7  151603712      Left 4 Dead 2\n",
       "9  151603712           HuniePop"
      ]
     },
     "execution_count": 10,
     "metadata": {},
     "output_type": "execute_result"
    }
   ],
   "source": [
    "bought_games = bought_games.drop(['hours_played','state'],axis=1)\n",
    "bought_games.head()"
   ]
  },
  {
   "cell_type": "code",
   "execution_count": 11,
   "id": "fd5903c0",
   "metadata": {},
   "outputs": [
    {
     "data": {
      "text/html": [
       "<div>\n",
       "<style scoped>\n",
       "    .dataframe tbody tr th:only-of-type {\n",
       "        vertical-align: middle;\n",
       "    }\n",
       "\n",
       "    .dataframe tbody tr th {\n",
       "        vertical-align: top;\n",
       "    }\n",
       "\n",
       "    .dataframe thead th {\n",
       "        text-align: right;\n",
       "    }\n",
       "</style>\n",
       "<table border=\"1\" class=\"dataframe\">\n",
       "  <thead>\n",
       "    <tr style=\"text-align: right;\">\n",
       "      <th></th>\n",
       "      <th>id</th>\n",
       "      <th>game</th>\n",
       "      <th>hours_played</th>\n",
       "    </tr>\n",
       "  </thead>\n",
       "  <tbody>\n",
       "    <tr>\n",
       "      <th>0</th>\n",
       "      <td>151603712</td>\n",
       "      <td>The Elder Scrolls V Skyrim</td>\n",
       "      <td>273.0</td>\n",
       "    </tr>\n",
       "    <tr>\n",
       "      <th>2</th>\n",
       "      <td>151603712</td>\n",
       "      <td>Fallout 4</td>\n",
       "      <td>87.0</td>\n",
       "    </tr>\n",
       "    <tr>\n",
       "      <th>4</th>\n",
       "      <td>151603712</td>\n",
       "      <td>Spore</td>\n",
       "      <td>14.9</td>\n",
       "    </tr>\n",
       "    <tr>\n",
       "      <th>6</th>\n",
       "      <td>151603712</td>\n",
       "      <td>Fallout New Vegas</td>\n",
       "      <td>12.1</td>\n",
       "    </tr>\n",
       "    <tr>\n",
       "      <th>8</th>\n",
       "      <td>151603712</td>\n",
       "      <td>Left 4 Dead 2</td>\n",
       "      <td>8.9</td>\n",
       "    </tr>\n",
       "  </tbody>\n",
       "</table>\n",
       "</div>"
      ],
      "text/plain": [
       "          id                        game  hours_played\n",
       "0  151603712  The Elder Scrolls V Skyrim         273.0\n",
       "2  151603712                   Fallout 4          87.0\n",
       "4  151603712                       Spore          14.9\n",
       "6  151603712           Fallout New Vegas          12.1\n",
       "8  151603712               Left 4 Dead 2           8.9"
      ]
     },
     "execution_count": 11,
     "metadata": {},
     "output_type": "execute_result"
    }
   ],
   "source": [
    "played_games = played_games.drop(['state'],axis=1)\n",
    "played_games.head()"
   ]
  },
  {
   "cell_type": "markdown",
   "id": "95fa286f",
   "metadata": {},
   "source": [
    "# Visualizing the data"
   ]
  },
  {
   "cell_type": "code",
   "execution_count": 12,
   "id": "787c53ca",
   "metadata": {},
   "outputs": [],
   "source": [
    "import matplotlib.pyplot as plt"
   ]
  },
  {
   "cell_type": "code",
   "execution_count": 13,
   "id": "c16c69bf",
   "metadata": {},
   "outputs": [
    {
     "data": {
      "text/plain": [
       "Text(0.5, 1.0, 'Density of hours played by player')"
      ]
     },
     "execution_count": 13,
     "metadata": {},
     "output_type": "execute_result"
    },
    {
     "data": {
      "image/png": "[encoded data removed]",
      "text/plain": [
       "<Figure size 640x480 with 1 Axes>"
      ]
     },
     "metadata": {},
     "output_type": "display_data"
    }
   ],
   "source": [
    "plt.figure()\n",
    "played_games['hours_played'].hist()\n",
    "plt.title('Density of hours played by player')"
   ]
  },
  {
   "cell_type": "code",
   "execution_count": 14,
   "id": "a86f198f",
   "metadata": {},
   "outputs": [
    {
     "data": {
      "text/plain": [
       "Text(0.5, 1.0, 'Density of games owned by player')"
      ]
     },
     "execution_count": 14,
     "metadata": {},
     "output_type": "execute_result"
    },
    {
     "data": {
      "image/png": "[encoded data removed]",
      "text/plain": [
       "<Figure size 640x480 with 1 Axes>"
      ]
     },
     "metadata": {},
     "output_type": "display_data"
    }
   ],
   "source": [
    "plt.figure()\n",
    "bought_games.groupby(['id'])['game'].count().hist()\n",
    "plt.title('Density of games owned by player')"
   ]
  },
  {
   "cell_type": "markdown",
   "id": "fca70d79",
   "metadata": {},
   "source": [
    "It seems that the distribution is exponential, the majority of players only buy a few games, and play for a few hours. Let's check what happens for the outliers."
   ]
  },
  {
   "cell_type": "code",
   "execution_count": 15,
   "id": "ac6c4c66",
   "metadata": {},
   "outputs": [
    {
     "data": {
      "text/plain": [
       "Text(0.5, 1.0, 'Density of hours played by outlier players')"
      ]
     },
     "execution_count": 15,
     "metadata": {},
     "output_type": "execute_result"
    },
    {
     "data": {
      "image/png": "[encoded data removed]",
      "text/plain": [
       "<Figure size 640x480 with 1 Axes>"
      ]
     },
     "metadata": {},
     "output_type": "display_data"
    }
   ],
   "source": [
    "plt.figure()\n",
    "played_games.loc[played_games['hours_played']>2000,'hours_played'].hist()\n",
    "plt.title('Density of hours played by outlier players')"
   ]
  },
  {
   "cell_type": "code",
   "execution_count": 16,
   "id": "dac77eee",
   "metadata": {},
   "outputs": [
    {
     "data": {
      "text/plain": [
       "Text(0.5, 1.0, 'Density of games owned by outlier players')"
      ]
     },
     "execution_count": 16,
     "metadata": {},
     "output_type": "execute_result"
    },
    {
     "data": {
      "image/png": "[encoded data removed]",
      "text/plain": [
       "<Figure size 640x480 with 1 Axes>"
      ]
     },
     "metadata": {},
     "output_type": "display_data"
    }
   ],
   "source": [
    "plt.figure()\n",
    "bought_games.groupby(['id'])['game'].count().loc[bought_games.groupby(['id'])['game'].count()>200].hist()\n",
    "plt.title('Density of games owned by outlier players')"
   ]
  },
  {
   "cell_type": "markdown",
   "id": "d3d67aa3",
   "metadata": {},
   "source": [
    "Even for outliers, the exponential distribution seems to be verified."
   ]
  },
  {
   "cell_type": "markdown",
   "id": "5a013dbd",
   "metadata": {},
   "source": [
    "# Technical ideas\n",
    "## 1- Recommendations on games bought -> cluster players depending on the game they have bought\n",
    "This problem, considering only the games that have been bought, is really similar to the problem of the market basket analysis, and we will thus try to use an apriori algorithm to solve it, which means deducing from the game bought by a person which other games people that buy those usually buy aswell.\n",
    "## 2- Recommendations base on hours played\n",
    "K-NN on players"
   ]
  },
  {
   "cell_type": "markdown",
   "id": "4aa141e0",
   "metadata": {},
   "source": [
    "## 1)"
   ]
  },
  {
   "cell_type": "code",
   "execution_count": 17,
   "id": "a39d9e60",
   "metadata": {},
   "outputs": [],
   "source": [
    "from mlxtend.frequent_patterns import apriori, association_rules"
   ]
  },
  {
   "cell_type": "markdown",
   "id": "26d3021c",
   "metadata": {},
   "source": [
    "To apply the apriori algorithm, we need to rearrange the dataset, with a column for each game and one-hot-encoded lines"
   ]
  },
  {
   "cell_type": "code",
   "execution_count": 19,
   "id": "1b672b95",
   "metadata": {},
   "outputs": [
    {
     "data": {
      "text/plain": [
       "id\n",
       "5250      [Cities Skylines, Deus Ex Human Revolution, Po...\n",
       "76767     [Counter-Strike, Call of Duty World at War, To...\n",
       "86540     [The Elder Scrolls V Skyrim, Audiosurf, XCOM E...\n",
       "103360    [Counter-Strike, Counter-Strike Condition Zero...\n",
       "144736    [Counter-Strike, Day of Defeat, Deathmatch Cla...\n",
       "Name: game, dtype: object"
      ]
     },
     "execution_count": 19,
     "metadata": {},
     "output_type": "execute_result"
    }
   ],
   "source": [
    "#Create lists of games for each player\n",
    "bought_list = bought_games.groupby(['id'])['game'].apply(list)\n",
    "bought_list.head()"
   ]
  },
  {
   "cell_type": "code",
   "execution_count": 20,
   "id": "e01868a2",
   "metadata": {},
   "outputs": [
    {
     "data": {
      "text/html": [
       "<div>\n",
       "<style scoped>\n",
       "    .dataframe tbody tr th:only-of-type {\n",
       "        vertical-align: middle;\n",
       "    }\n",
       "\n",
       "    .dataframe tbody tr th {\n",
       "        vertical-align: top;\n",
       "    }\n",
       "\n",
       "    .dataframe thead th {\n",
       "        text-align: right;\n",
       "    }\n",
       "</style>\n",
       "<table border=\"1\" class=\"dataframe\">\n",
       "  <thead>\n",
       "    <tr style=\"text-align: right;\">\n",
       "      <th></th>\n",
       "      <th>007 Legends</th>\n",
       "      <th>0RBITALIS</th>\n",
       "      <th>1... 2... 3... KICK IT! (Drop That Beat Like an Ugly Baby)</th>\n",
       "      <th>10 Second Ninja</th>\n",
       "      <th>10,000,000</th>\n",
       "      <th>100% Orange Juice</th>\n",
       "      <th>1000 Amps</th>\n",
       "      <th>12 Labours of Hercules</th>\n",
       "      <th>12 Labours of Hercules II The Cretan Bull</th>\n",
       "      <th>12 Labours of Hercules III Girl Power</th>\n",
       "      <th>...</th>\n",
       "      <th>rFactor 2</th>\n",
       "      <th>realMyst</th>\n",
       "      <th>realMyst Masterpiece Edition</th>\n",
       "      <th>resident evil 4 / biohazard 4</th>\n",
       "      <th>rymdkapsel</th>\n",
       "      <th>sZone-Online</th>\n",
       "      <th>samurai_jazz</th>\n",
       "      <th>the static speaks my name</th>\n",
       "      <th>theHunter</th>\n",
       "      <th>theHunter Primal</th>\n",
       "    </tr>\n",
       "  </thead>\n",
       "  <tbody>\n",
       "    <tr>\n",
       "      <th>0</th>\n",
       "      <td>0</td>\n",
       "      <td>0</td>\n",
       "      <td>0</td>\n",
       "      <td>0</td>\n",
       "      <td>0</td>\n",
       "      <td>0</td>\n",
       "      <td>0</td>\n",
       "      <td>0</td>\n",
       "      <td>0</td>\n",
       "      <td>0</td>\n",
       "      <td>...</td>\n",
       "      <td>0</td>\n",
       "      <td>0</td>\n",
       "      <td>0</td>\n",
       "      <td>0</td>\n",
       "      <td>0</td>\n",
       "      <td>0</td>\n",
       "      <td>0</td>\n",
       "      <td>0</td>\n",
       "      <td>0</td>\n",
       "      <td>0</td>\n",
       "    </tr>\n",
       "    <tr>\n",
       "      <th>1</th>\n",
       "      <td>0</td>\n",
       "      <td>0</td>\n",
       "      <td>0</td>\n",
       "      <td>0</td>\n",
       "      <td>0</td>\n",
       "      <td>0</td>\n",
       "      <td>0</td>\n",
       "      <td>0</td>\n",
       "      <td>0</td>\n",
       "      <td>0</td>\n",
       "      <td>...</td>\n",
       "      <td>0</td>\n",
       "      <td>0</td>\n",
       "      <td>0</td>\n",
       "      <td>0</td>\n",
       "      <td>0</td>\n",
       "      <td>0</td>\n",
       "      <td>0</td>\n",
       "      <td>0</td>\n",
       "      <td>0</td>\n",
       "      <td>0</td>\n",
       "    </tr>\n",
       "    <tr>\n",
       "      <th>2</th>\n",
       "      <td>0</td>\n",
       "      <td>0</td>\n",
       "      <td>0</td>\n",
       "      <td>0</td>\n",
       "      <td>0</td>\n",
       "      <td>0</td>\n",
       "      <td>0</td>\n",
       "      <td>0</td>\n",
       "      <td>0</td>\n",
       "      <td>0</td>\n",
       "      <td>...</td>\n",
       "      <td>0</td>\n",
       "      <td>0</td>\n",
       "      <td>0</td>\n",
       "      <td>0</td>\n",
       "      <td>0</td>\n",
       "      <td>0</td>\n",
       "      <td>0</td>\n",
       "      <td>0</td>\n",
       "      <td>0</td>\n",
       "      <td>0</td>\n",
       "    </tr>\n",
       "    <tr>\n",
       "      <th>3</th>\n",
       "      <td>0</td>\n",
       "      <td>0</td>\n",
       "      <td>0</td>\n",
       "      <td>0</td>\n",
       "      <td>0</td>\n",
       "      <td>0</td>\n",
       "      <td>0</td>\n",
       "      <td>0</td>\n",
       "      <td>0</td>\n",
       "      <td>0</td>\n",
       "      <td>...</td>\n",
       "      <td>0</td>\n",
       "      <td>0</td>\n",
       "      <td>0</td>\n",
       "      <td>0</td>\n",
       "      <td>0</td>\n",
       "      <td>0</td>\n",
       "      <td>0</td>\n",
       "      <td>0</td>\n",
       "      <td>0</td>\n",
       "      <td>0</td>\n",
       "    </tr>\n",
       "    <tr>\n",
       "      <th>4</th>\n",
       "      <td>0</td>\n",
       "      <td>0</td>\n",
       "      <td>0</td>\n",
       "      <td>0</td>\n",
       "      <td>0</td>\n",
       "      <td>0</td>\n",
       "      <td>0</td>\n",
       "      <td>0</td>\n",
       "      <td>0</td>\n",
       "      <td>0</td>\n",
       "      <td>...</td>\n",
       "      <td>0</td>\n",
       "      <td>0</td>\n",
       "      <td>0</td>\n",
       "      <td>0</td>\n",
       "      <td>0</td>\n",
       "      <td>0</td>\n",
       "      <td>0</td>\n",
       "      <td>0</td>\n",
       "      <td>0</td>\n",
       "      <td>0</td>\n",
       "    </tr>\n",
       "  </tbody>\n",
       "</table>\n",
       "<p>5 rows × 5155 columns</p>\n",
       "</div>"
      ],
      "text/plain": [
       "   007 Legends  0RBITALIS  \\\n",
       "0            0          0   \n",
       "1            0          0   \n",
       "2            0          0   \n",
       "3            0          0   \n",
       "4            0          0   \n",
       "\n",
       "   1... 2... 3... KICK IT! (Drop That Beat Like an Ugly Baby)  \\\n",
       "0                                                  0            \n",
       "1                                                  0            \n",
       "2                                                  0            \n",
       "3                                                  0            \n",
       "4                                                  0            \n",
       "\n",
       "   10 Second Ninja  10,000,000  100% Orange Juice  1000 Amps  \\\n",
       "0                0           0                  0          0   \n",
       "1                0           0                  0          0   \n",
       "2                0           0                  0          0   \n",
       "3                0           0                  0          0   \n",
       "4                0           0                  0          0   \n",
       "\n",
       "   12 Labours of Hercules  12 Labours of Hercules II The Cretan Bull  \\\n",
       "0                       0                                          0   \n",
       "1                       0                                          0   \n",
       "2                       0                                          0   \n",
       "3                       0                                          0   \n",
       "4                       0                                          0   \n",
       "\n",
       "   12 Labours of Hercules III Girl Power  ...  rFactor 2  realMyst  \\\n",
       "0                                      0  ...          0         0   \n",
       "1                                      0  ...          0         0   \n",
       "2                                      0  ...          0         0   \n",
       "3                                      0  ...          0         0   \n",
       "4                                      0  ...          0         0   \n",
       "\n",
       "   realMyst Masterpiece Edition  resident evil 4 / biohazard 4  rymdkapsel  \\\n",
       "0                             0                              0           0   \n",
       "1                             0                              0           0   \n",
       "2                             0                              0           0   \n",
       "3                             0                              0           0   \n",
       "4                             0                              0           0   \n",
       "\n",
       "   sZone-Online  samurai_jazz  the static speaks my name  theHunter  \\\n",
       "0             0             0                          0          0   \n",
       "1             0             0                          0          0   \n",
       "2             0             0                          0          0   \n",
       "3             0             0                          0          0   \n",
       "4             0             0                          0          0   \n",
       "\n",
       "   theHunter Primal  \n",
       "0                 0  \n",
       "1                 0  \n",
       "2                 0  \n",
       "3                 0  \n",
       "4                 0  \n",
       "\n",
       "[5 rows x 5155 columns]"
      ]
     },
     "execution_count": 20,
     "metadata": {},
     "output_type": "execute_result"
    }
   ],
   "source": [
    "from sklearn.preprocessing import MultiLabelBinarizer\n",
    "#One-hot-encode the lists\n",
    "mlb = MultiLabelBinarizer()\n",
    "\n",
    "bought_encoded = pd.DataFrame(mlb.fit_transform(bought_list),\n",
    "                   columns=mlb.classes_)\n",
    "\n",
    "#The id of the player is no more needed\n",
    "bought_encoded.head()"
   ]
  },
  {
   "cell_type": "code",
   "execution_count": 21,
   "id": "46237297",
   "metadata": {},
   "outputs": [
    {
     "name": "stderr",
     "output_type": "stream",
     "text": [
      "/home/vincent/.local/lib/python3.8/site-packages/mlxtend/frequent_patterns/fpcommon.py:111: DeprecationWarning: DataFrames with non-bool types result in worse computationalperformance and their support might be discontinued in the future.Please use a DataFrame with bool type\n",
      "  warnings.warn(\n"
     ]
    },
    {
     "data": {
      "text/html": [
       "<div>\n",
       "<style scoped>\n",
       "    .dataframe tbody tr th:only-of-type {\n",
       "        vertical-align: middle;\n",
       "    }\n",
       "\n",
       "    .dataframe tbody tr th {\n",
       "        vertical-align: top;\n",
       "    }\n",
       "\n",
       "    .dataframe thead th {\n",
       "        text-align: right;\n",
       "    }\n",
       "</style>\n",
       "<table border=\"1\" class=\"dataframe\">\n",
       "  <thead>\n",
       "    <tr style=\"text-align: right;\">\n",
       "      <th></th>\n",
       "      <th>antecedents</th>\n",
       "      <th>consequents</th>\n",
       "      <th>antecedent support</th>\n",
       "      <th>consequent support</th>\n",
       "      <th>support</th>\n",
       "      <th>confidence</th>\n",
       "      <th>lift</th>\n",
       "      <th>leverage</th>\n",
       "      <th>conviction</th>\n",
       "    </tr>\n",
       "  </thead>\n",
       "  <tbody>\n",
       "    <tr>\n",
       "      <th>0</th>\n",
       "      <td>(Arma 2 Operation Arrowhead)</td>\n",
       "      <td>(Arma 2 Operation Arrowhead Beta (Obsolete))</td>\n",
       "      <td>0.020173</td>\n",
       "      <td>0.020173</td>\n",
       "      <td>0.020173</td>\n",
       "      <td>1.0</td>\n",
       "      <td>49.572000</td>\n",
       "      <td>0.019766</td>\n",
       "      <td>inf</td>\n",
       "    </tr>\n",
       "    <tr>\n",
       "      <th>1</th>\n",
       "      <td>(Arma 2 Operation Arrowhead Beta (Obsolete))</td>\n",
       "      <td>(Arma 2 Operation Arrowhead)</td>\n",
       "      <td>0.020173</td>\n",
       "      <td>0.020173</td>\n",
       "      <td>0.020173</td>\n",
       "      <td>1.0</td>\n",
       "      <td>49.572000</td>\n",
       "      <td>0.019766</td>\n",
       "      <td>inf</td>\n",
       "    </tr>\n",
       "    <tr>\n",
       "      <th>6</th>\n",
       "      <td>(Call of Duty Black Ops)</td>\n",
       "      <td>(Call of Duty Black Ops - Multiplayer)</td>\n",
       "      <td>0.020495</td>\n",
       "      <td>0.020495</td>\n",
       "      <td>0.020495</td>\n",
       "      <td>1.0</td>\n",
       "      <td>48.791339</td>\n",
       "      <td>0.020075</td>\n",
       "      <td>inf</td>\n",
       "    </tr>\n",
       "    <tr>\n",
       "      <th>7</th>\n",
       "      <td>(Call of Duty Black Ops - Multiplayer)</td>\n",
       "      <td>(Call of Duty Black Ops)</td>\n",
       "      <td>0.020495</td>\n",
       "      <td>0.020495</td>\n",
       "      <td>0.020495</td>\n",
       "      <td>1.0</td>\n",
       "      <td>48.791339</td>\n",
       "      <td>0.020075</td>\n",
       "      <td>inf</td>\n",
       "    </tr>\n",
       "    <tr>\n",
       "      <th>2110</th>\n",
       "      <td>(Ricochet, Half-Life Blue Shift)</td>\n",
       "      <td>(Deathmatch Classic, Half-Life Opposing Force)</td>\n",
       "      <td>0.023400</td>\n",
       "      <td>0.023400</td>\n",
       "      <td>0.023400</td>\n",
       "      <td>1.0</td>\n",
       "      <td>42.734483</td>\n",
       "      <td>0.022853</td>\n",
       "      <td>inf</td>\n",
       "    </tr>\n",
       "  </tbody>\n",
       "</table>\n",
       "</div>"
      ],
      "text/plain": [
       "                                       antecedents  \\\n",
       "0                     (Arma 2 Operation Arrowhead)   \n",
       "1     (Arma 2 Operation Arrowhead Beta (Obsolete))   \n",
       "6                         (Call of Duty Black Ops)   \n",
       "7           (Call of Duty Black Ops - Multiplayer)   \n",
       "2110              (Ricochet, Half-Life Blue Shift)   \n",
       "\n",
       "                                         consequents  antecedent support  \\\n",
       "0       (Arma 2 Operation Arrowhead Beta (Obsolete))            0.020173   \n",
       "1                       (Arma 2 Operation Arrowhead)            0.020173   \n",
       "6             (Call of Duty Black Ops - Multiplayer)            0.020495   \n",
       "7                           (Call of Duty Black Ops)            0.020495   \n",
       "2110  (Deathmatch Classic, Half-Life Opposing Force)            0.023400   \n",
       "\n",
       "      consequent support   support  confidence       lift  leverage  \\\n",
       "0               0.020173  0.020173         1.0  49.572000  0.019766   \n",
       "1               0.020173  0.020173         1.0  49.572000  0.019766   \n",
       "6               0.020495  0.020495         1.0  48.791339  0.020075   \n",
       "7               0.020495  0.020495         1.0  48.791339  0.020075   \n",
       "2110            0.023400  0.023400         1.0  42.734483  0.022853   \n",
       "\n",
       "      conviction  \n",
       "0            inf  \n",
       "1            inf  \n",
       "6            inf  \n",
       "7            inf  \n",
       "2110         inf  "
      ]
     },
     "execution_count": 21,
     "metadata": {},
     "output_type": "execute_result"
    }
   ],
   "source": [
    "frq_items = apriori(bought_encoded, min_support = 0.02, use_colnames = True)\n",
    "  \n",
    "# Collecting the inferred rules in a dataframe\n",
    "rules = association_rules(frq_items, metric =\"lift\", min_threshold = 0.8)\n",
    "rules = rules.sort_values(['confidence', 'lift'], ascending =[False, False])\n",
    "rules.head()"
   ]
  },
  {
   "cell_type": "code",
   "execution_count": 22,
   "id": "3f7dac20",
   "metadata": {},
   "outputs": [
    {
     "data": {
      "text/plain": [
       "7266"
      ]
     },
     "execution_count": 22,
     "metadata": {},
     "output_type": "execute_result"
    }
   ],
   "source": [
    "len(rules)"
   ]
  },
  {
   "cell_type": "code",
   "execution_count": 23,
   "id": "09ec9551",
   "metadata": {},
   "outputs": [
    {
     "data": {
      "text/plain": [
       "antecedents           (Team Fortress Classic, Half-Life, Deathmatch ...\n",
       "consequents                            (Ricochet, Half-Life Blue Shift)\n",
       "antecedent support                                               0.0234\n",
       "consequent support                                               0.0234\n",
       "support                                                          0.0234\n",
       "confidence                                                          1.0\n",
       "lift                                                          42.734483\n",
       "leverage                                                       0.022853\n",
       "conviction                                                          inf\n",
       "Name: 4070, dtype: object"
      ]
     },
     "execution_count": 23,
     "metadata": {},
     "output_type": "execute_result"
    }
   ],
   "source": [
    "rules.iloc[75]"
   ]
  },
  {
   "cell_type": "markdown",
   "id": "4696e487",
   "metadata": {},
   "source": [
    "**Note : tests avec les frequent itemsets -> séparer en training/test, pour le test : supprimer un élément du basket, et prédire cet élément avec les règles -> utiliser les métriques classiques de prédiction**"
   ]
  },
  {
   "cell_type": "markdown",
   "id": "900fe45d",
   "metadata": {},
   "source": [
    "# 2)\n",
    "The aim of the algorithm is to predict a list of games someone may like knowing how much he played to other games.\n",
    "It means that the feature we want to predict is a list of games, and the features used to do so are, for each game in the database, the amount of hours spent playing this game.\n",
    "\n",
    "We then want X, Y like this :  \n",
    "X = [0,0,...,0,5.2,0,10,...]  \n",
    "Y = [0,1,1,0,0,1,...] (the one-encoded vector of the games liked) \n",
    "\n",
    "To determine the k neighbors, we will use the L2 distance on the vectors of hours played for each game.  \n",
    "With this distance, firstly people that played a lot the same games will be near from each other, but it will also cluster types of players : those who play a lot of different games will be together, and the niche player will be separated.  \n",
    "\n",
    "To make a prediction, we will compute using this distance the k neighbors of a player, and make a prediction.  \n",
    "For this prediction, the k-nn algorithm usually choses the majority class of the neighbors. Thus, we could define a class as the one-hot-encoding of the games played by the user. However, this may lead to 1 class per neighbor, as it is highly possible that every player in the neighborhood, even if they are close one to each other, have tried a game the other ones never played to.  \n",
    "That's why we choose as a result to give the intersection of all the games played by the neighbors. This will guarantee that the games resulting will be chosen because they are characteristical of the neighborhood.  \n",
    "Obviously, we will remove from the result the games already played by the initial player (we don't want to recommand to someone a game he already played for 200 hours...)"
   ]
  },
  {
   "cell_type": "code",
   "execution_count": 24,
   "id": "8dd5db9c",
   "metadata": {},
   "outputs": [
    {
     "data": {
      "text/plain": [
       "id\n",
       "5250      [Cities Skylines, Deus Ex Human Revolution, Po...\n",
       "76767     [Counter-Strike, Call of Duty World at War, To...\n",
       "86540     [The Elder Scrolls V Skyrim, Audiosurf, XCOM E...\n",
       "103360    [Counter-Strike, Counter-Strike Condition Zero...\n",
       "144736    [Counter-Strike, Day of Defeat, Deathmatch Cla...\n",
       "Name: game, dtype: object"
      ]
     },
     "execution_count": 24,
     "metadata": {},
     "output_type": "execute_result"
    }
   ],
   "source": [
    "bought_list.head()"
   ]
  },
  {
   "cell_type": "code",
   "execution_count": 25,
   "id": "6ab680de",
   "metadata": {},
   "outputs": [
    {
     "data": {
      "text/html": [
       "<div>\n",
       "<style scoped>\n",
       "    .dataframe tbody tr th:only-of-type {\n",
       "        vertical-align: middle;\n",
       "    }\n",
       "\n",
       "    .dataframe tbody tr th {\n",
       "        vertical-align: top;\n",
       "    }\n",
       "\n",
       "    .dataframe thead th {\n",
       "        text-align: right;\n",
       "    }\n",
       "</style>\n",
       "<table border=\"1\" class=\"dataframe\">\n",
       "  <thead>\n",
       "    <tr style=\"text-align: right;\">\n",
       "      <th></th>\n",
       "      <th>id</th>\n",
       "      <th>game</th>\n",
       "      <th>hours_played</th>\n",
       "    </tr>\n",
       "  </thead>\n",
       "  <tbody>\n",
       "    <tr>\n",
       "      <th>0</th>\n",
       "      <td>151603712</td>\n",
       "      <td>The Elder Scrolls V Skyrim</td>\n",
       "      <td>273.0</td>\n",
       "    </tr>\n",
       "    <tr>\n",
       "      <th>2</th>\n",
       "      <td>151603712</td>\n",
       "      <td>Fallout 4</td>\n",
       "      <td>87.0</td>\n",
       "    </tr>\n",
       "    <tr>\n",
       "      <th>4</th>\n",
       "      <td>151603712</td>\n",
       "      <td>Spore</td>\n",
       "      <td>14.9</td>\n",
       "    </tr>\n",
       "    <tr>\n",
       "      <th>6</th>\n",
       "      <td>151603712</td>\n",
       "      <td>Fallout New Vegas</td>\n",
       "      <td>12.1</td>\n",
       "    </tr>\n",
       "    <tr>\n",
       "      <th>8</th>\n",
       "      <td>151603712</td>\n",
       "      <td>Left 4 Dead 2</td>\n",
       "      <td>8.9</td>\n",
       "    </tr>\n",
       "  </tbody>\n",
       "</table>\n",
       "</div>"
      ],
      "text/plain": [
       "          id                        game  hours_played\n",
       "0  151603712  The Elder Scrolls V Skyrim         273.0\n",
       "2  151603712                   Fallout 4          87.0\n",
       "4  151603712                       Spore          14.9\n",
       "6  151603712           Fallout New Vegas          12.1\n",
       "8  151603712               Left 4 Dead 2           8.9"
      ]
     },
     "execution_count": 25,
     "metadata": {},
     "output_type": "execute_result"
    }
   ],
   "source": [
    "played_games.head()"
   ]
  },
  {
   "cell_type": "code",
   "execution_count": 183,
   "id": "59b4946a",
   "metadata": {},
   "outputs": [
    {
     "data": {
      "text/plain": [
       "id\n",
       "5250      {'Cities Skylines': 144.0, 'Deus Ex Human Revo...\n",
       "76767     {'Counter-Strike': 365.0, 'Call of Duty World ...\n",
       "86540     {'The Elder Scrolls V Skyrim': 113.0, 'Audiosu...\n",
       "144736                              {'Counter-Strike': 0.1}\n",
       "181212    {'Counter-Strike': 1.8, 'Half-Life 2 Lost Coas...\n",
       "dtype: object"
      ]
     },
     "execution_count": 183,
     "metadata": {},
     "output_type": "execute_result"
    }
   ],
   "source": [
    "#Get a dict of games and hours played for each id\n",
    "played_dict = played_games.groupby('id').apply(lambda g : dict(zip(g['game'], g['hours_played'])))\n",
    "played_dict.head()"
   ]
  },
  {
   "cell_type": "code",
   "execution_count": 187,
   "id": "03df60e5",
   "metadata": {},
   "outputs": [
    {
     "data": {
      "text/html": [
       "<div>\n",
       "<style scoped>\n",
       "    .dataframe tbody tr th:only-of-type {\n",
       "        vertical-align: middle;\n",
       "    }\n",
       "\n",
       "    .dataframe tbody tr th {\n",
       "        vertical-align: top;\n",
       "    }\n",
       "\n",
       "    .dataframe thead th {\n",
       "        text-align: right;\n",
       "    }\n",
       "</style>\n",
       "<table border=\"1\" class=\"dataframe\">\n",
       "  <thead>\n",
       "    <tr style=\"text-align: right;\">\n",
       "      <th></th>\n",
       "      <th>007 Legends</th>\n",
       "      <th>0RBITALIS</th>\n",
       "      <th>1... 2... 3... KICK IT! (Drop That Beat Like an Ugly Baby)</th>\n",
       "      <th>10 Second Ninja</th>\n",
       "      <th>10,000,000</th>\n",
       "      <th>100% Orange Juice</th>\n",
       "      <th>1000 Amps</th>\n",
       "      <th>12 Labours of Hercules</th>\n",
       "      <th>12 Labours of Hercules II The Cretan Bull</th>\n",
       "      <th>12 Labours of Hercules III Girl Power</th>\n",
       "      <th>...</th>\n",
       "      <th>rFactor</th>\n",
       "      <th>rFactor 2</th>\n",
       "      <th>realMyst</th>\n",
       "      <th>realMyst Masterpiece Edition</th>\n",
       "      <th>resident evil 4 / biohazard 4</th>\n",
       "      <th>rymdkapsel</th>\n",
       "      <th>sZone-Online</th>\n",
       "      <th>the static speaks my name</th>\n",
       "      <th>theHunter</th>\n",
       "      <th>theHunter Primal</th>\n",
       "    </tr>\n",
       "  </thead>\n",
       "  <tbody>\n",
       "    <tr>\n",
       "      <th>0</th>\n",
       "      <td>0.0</td>\n",
       "      <td>0.0</td>\n",
       "      <td>0.0</td>\n",
       "      <td>0.0</td>\n",
       "      <td>0.0</td>\n",
       "      <td>0.0</td>\n",
       "      <td>0.0</td>\n",
       "      <td>0.0</td>\n",
       "      <td>0.0</td>\n",
       "      <td>0.0</td>\n",
       "      <td>...</td>\n",
       "      <td>0.0</td>\n",
       "      <td>0.0</td>\n",
       "      <td>0.0</td>\n",
       "      <td>0.0</td>\n",
       "      <td>0.0</td>\n",
       "      <td>0.0</td>\n",
       "      <td>0.0</td>\n",
       "      <td>0.0</td>\n",
       "      <td>0.0</td>\n",
       "      <td>0.0</td>\n",
       "    </tr>\n",
       "    <tr>\n",
       "      <th>1</th>\n",
       "      <td>0.0</td>\n",
       "      <td>0.0</td>\n",
       "      <td>0.0</td>\n",
       "      <td>0.0</td>\n",
       "      <td>0.0</td>\n",
       "      <td>0.0</td>\n",
       "      <td>0.0</td>\n",
       "      <td>0.0</td>\n",
       "      <td>0.0</td>\n",
       "      <td>0.0</td>\n",
       "      <td>...</td>\n",
       "      <td>0.0</td>\n",
       "      <td>0.0</td>\n",
       "      <td>0.0</td>\n",
       "      <td>0.0</td>\n",
       "      <td>0.0</td>\n",
       "      <td>0.0</td>\n",
       "      <td>0.0</td>\n",
       "      <td>0.0</td>\n",
       "      <td>0.0</td>\n",
       "      <td>0.0</td>\n",
       "    </tr>\n",
       "    <tr>\n",
       "      <th>2</th>\n",
       "      <td>0.0</td>\n",
       "      <td>0.0</td>\n",
       "      <td>0.0</td>\n",
       "      <td>0.0</td>\n",
       "      <td>0.0</td>\n",
       "      <td>0.0</td>\n",
       "      <td>0.0</td>\n",
       "      <td>0.0</td>\n",
       "      <td>0.0</td>\n",
       "      <td>0.0</td>\n",
       "      <td>...</td>\n",
       "      <td>0.0</td>\n",
       "      <td>0.0</td>\n",
       "      <td>0.0</td>\n",
       "      <td>0.0</td>\n",
       "      <td>0.0</td>\n",
       "      <td>0.0</td>\n",
       "      <td>0.0</td>\n",
       "      <td>0.0</td>\n",
       "      <td>0.0</td>\n",
       "      <td>0.0</td>\n",
       "    </tr>\n",
       "    <tr>\n",
       "      <th>3</th>\n",
       "      <td>0.0</td>\n",
       "      <td>0.0</td>\n",
       "      <td>0.0</td>\n",
       "      <td>0.0</td>\n",
       "      <td>0.0</td>\n",
       "      <td>0.0</td>\n",
       "      <td>0.0</td>\n",
       "      <td>0.0</td>\n",
       "      <td>0.0</td>\n",
       "      <td>0.0</td>\n",
       "      <td>...</td>\n",
       "      <td>0.0</td>\n",
       "      <td>0.0</td>\n",
       "      <td>0.0</td>\n",
       "      <td>0.0</td>\n",
       "      <td>0.0</td>\n",
       "      <td>0.0</td>\n",
       "      <td>0.0</td>\n",
       "      <td>0.0</td>\n",
       "      <td>0.0</td>\n",
       "      <td>0.0</td>\n",
       "    </tr>\n",
       "    <tr>\n",
       "      <th>4</th>\n",
       "      <td>0.0</td>\n",
       "      <td>0.0</td>\n",
       "      <td>0.0</td>\n",
       "      <td>0.0</td>\n",
       "      <td>0.0</td>\n",
       "      <td>0.0</td>\n",
       "      <td>0.0</td>\n",
       "      <td>0.0</td>\n",
       "      <td>0.0</td>\n",
       "      <td>0.0</td>\n",
       "      <td>...</td>\n",
       "      <td>0.0</td>\n",
       "      <td>0.0</td>\n",
       "      <td>0.0</td>\n",
       "      <td>0.0</td>\n",
       "      <td>0.0</td>\n",
       "      <td>0.0</td>\n",
       "      <td>0.0</td>\n",
       "      <td>0.0</td>\n",
       "      <td>0.0</td>\n",
       "      <td>0.0</td>\n",
       "    </tr>\n",
       "  </tbody>\n",
       "</table>\n",
       "<p>5 rows × 3600 columns</p>\n",
       "</div>"
      ],
      "text/plain": [
       "   007 Legends  0RBITALIS  \\\n",
       "0          0.0        0.0   \n",
       "1          0.0        0.0   \n",
       "2          0.0        0.0   \n",
       "3          0.0        0.0   \n",
       "4          0.0        0.0   \n",
       "\n",
       "   1... 2... 3... KICK IT! (Drop That Beat Like an Ugly Baby)  \\\n",
       "0                                                0.0            \n",
       "1                                                0.0            \n",
       "2                                                0.0            \n",
       "3                                                0.0            \n",
       "4                                                0.0            \n",
       "\n",
       "   10 Second Ninja  10,000,000  100% Orange Juice  1000 Amps  \\\n",
       "0              0.0         0.0                0.0        0.0   \n",
       "1              0.0         0.0                0.0        0.0   \n",
       "2              0.0         0.0                0.0        0.0   \n",
       "3              0.0         0.0                0.0        0.0   \n",
       "4              0.0         0.0                0.0        0.0   \n",
       "\n",
       "   12 Labours of Hercules  12 Labours of Hercules II The Cretan Bull  \\\n",
       "0                     0.0                                        0.0   \n",
       "1                     0.0                                        0.0   \n",
       "2                     0.0                                        0.0   \n",
       "3                     0.0                                        0.0   \n",
       "4                     0.0                                        0.0   \n",
       "\n",
       "   12 Labours of Hercules III Girl Power  ...  rFactor  rFactor 2  realMyst  \\\n",
       "0                                    0.0  ...      0.0        0.0       0.0   \n",
       "1                                    0.0  ...      0.0        0.0       0.0   \n",
       "2                                    0.0  ...      0.0        0.0       0.0   \n",
       "3                                    0.0  ...      0.0        0.0       0.0   \n",
       "4                                    0.0  ...      0.0        0.0       0.0   \n",
       "\n",
       "   realMyst Masterpiece Edition  resident evil 4 / biohazard 4  rymdkapsel  \\\n",
       "0                           0.0                            0.0         0.0   \n",
       "1                           0.0                            0.0         0.0   \n",
       "2                           0.0                            0.0         0.0   \n",
       "3                           0.0                            0.0         0.0   \n",
       "4                           0.0                            0.0         0.0   \n",
       "\n",
       "   sZone-Online  the static speaks my name  theHunter  theHunter Primal  \n",
       "0           0.0                        0.0        0.0               0.0  \n",
       "1           0.0                        0.0        0.0               0.0  \n",
       "2           0.0                        0.0        0.0               0.0  \n",
       "3           0.0                        0.0        0.0               0.0  \n",
       "4           0.0                        0.0        0.0               0.0  \n",
       "\n",
       "[5 rows x 3600 columns]"
      ]
     },
     "execution_count": 187,
     "metadata": {},
     "output_type": "execute_result"
    }
   ],
   "source": [
    "#Create vectors of hours played \n",
    "hours_encoded = played_dict.apply(pd.Series)\n",
    "#Replace NaN values by 0 : a game not in the dict has never been played\n",
    "hours_encoded = hours_encoded.fillna(0)\n",
    "#We drop the ids because they are not useful anymore\n",
    "hours_encoded = hours_encoded.reset_index(drop=True)\n",
    "#Sort by name of games\n",
    "hours_encoded = hours_encoded.reindex(sorted(hours_encoded.columns),axis=1)\n",
    "hours_encoded.head()"
   ]
  },
  {
   "cell_type": "code",
   "execution_count": 188,
   "id": "4a616df6",
   "metadata": {
    "scrolled": true
   },
   "outputs": [
    {
     "data": {
      "text/plain": [
       "3600"
      ]
     },
     "execution_count": 188,
     "metadata": {},
     "output_type": "execute_result"
    }
   ],
   "source": [
    "#Get the list of games\n",
    "games_list = list(hours_encoded.columns)\n",
    "games_list.sort()\n",
    "len(games_list)"
   ]
  },
  {
   "cell_type": "code",
   "execution_count": 195,
   "id": "4fe5447c",
   "metadata": {},
   "outputs": [
    {
     "data": {
      "text/plain": [
       "0    [Cities Skylines, Deus Ex Human Revolution, Po...\n",
       "1    [Counter-Strike, Call of Duty World at War, To...\n",
       "2    [The Elder Scrolls V Skyrim, Audiosurf, XCOM E...\n",
       "3                                     [Counter-Strike]\n",
       "4             [Counter-Strike, Half-Life 2 Lost Coast]\n",
       "Name: game, dtype: object"
      ]
     },
     "execution_count": 195,
     "metadata": {},
     "output_type": "execute_result"
    }
   ],
   "source": [
    "#We now create our \"classes\" : the list of games played by each player\n",
    "played_list = played_games.groupby('id')['game'].apply(list).reset_index(drop=True)\n",
    "played_list.head()"
   ]
  },
  {
   "cell_type": "code",
   "execution_count": 196,
   "id": "55e0bfff",
   "metadata": {},
   "outputs": [
    {
     "data": {
      "text/html": [
       "<div>\n",
       "<style scoped>\n",
       "    .dataframe tbody tr th:only-of-type {\n",
       "        vertical-align: middle;\n",
       "    }\n",
       "\n",
       "    .dataframe tbody tr th {\n",
       "        vertical-align: top;\n",
       "    }\n",
       "\n",
       "    .dataframe thead th {\n",
       "        text-align: right;\n",
       "    }\n",
       "</style>\n",
       "<table border=\"1\" class=\"dataframe\">\n",
       "  <thead>\n",
       "    <tr style=\"text-align: right;\">\n",
       "      <th></th>\n",
       "      <th>007 Legends</th>\n",
       "      <th>0RBITALIS</th>\n",
       "      <th>1... 2... 3... KICK IT! (Drop That Beat Like an Ugly Baby)</th>\n",
       "      <th>10 Second Ninja</th>\n",
       "      <th>10,000,000</th>\n",
       "      <th>100% Orange Juice</th>\n",
       "      <th>1000 Amps</th>\n",
       "      <th>12 Labours of Hercules</th>\n",
       "      <th>12 Labours of Hercules II The Cretan Bull</th>\n",
       "      <th>12 Labours of Hercules III Girl Power</th>\n",
       "      <th>...</th>\n",
       "      <th>rFactor</th>\n",
       "      <th>rFactor 2</th>\n",
       "      <th>realMyst</th>\n",
       "      <th>realMyst Masterpiece Edition</th>\n",
       "      <th>resident evil 4 / biohazard 4</th>\n",
       "      <th>rymdkapsel</th>\n",
       "      <th>sZone-Online</th>\n",
       "      <th>the static speaks my name</th>\n",
       "      <th>theHunter</th>\n",
       "      <th>theHunter Primal</th>\n",
       "    </tr>\n",
       "  </thead>\n",
       "  <tbody>\n",
       "    <tr>\n",
       "      <th>0</th>\n",
       "      <td>0</td>\n",
       "      <td>0</td>\n",
       "      <td>0</td>\n",
       "      <td>0</td>\n",
       "      <td>0</td>\n",
       "      <td>0</td>\n",
       "      <td>0</td>\n",
       "      <td>0</td>\n",
       "      <td>0</td>\n",
       "      <td>0</td>\n",
       "      <td>...</td>\n",
       "      <td>0</td>\n",
       "      <td>0</td>\n",
       "      <td>0</td>\n",
       "      <td>0</td>\n",
       "      <td>0</td>\n",
       "      <td>0</td>\n",
       "      <td>0</td>\n",
       "      <td>0</td>\n",
       "      <td>0</td>\n",
       "      <td>0</td>\n",
       "    </tr>\n",
       "    <tr>\n",
       "      <th>1</th>\n",
       "      <td>0</td>\n",
       "      <td>0</td>\n",
       "      <td>0</td>\n",
       "      <td>0</td>\n",
       "      <td>0</td>\n",
       "      <td>0</td>\n",
       "      <td>0</td>\n",
       "      <td>0</td>\n",
       "      <td>0</td>\n",
       "      <td>0</td>\n",
       "      <td>...</td>\n",
       "      <td>0</td>\n",
       "      <td>0</td>\n",
       "      <td>0</td>\n",
       "      <td>0</td>\n",
       "      <td>0</td>\n",
       "      <td>0</td>\n",
       "      <td>0</td>\n",
       "      <td>0</td>\n",
       "      <td>0</td>\n",
       "      <td>0</td>\n",
       "    </tr>\n",
       "    <tr>\n",
       "      <th>2</th>\n",
       "      <td>0</td>\n",
       "      <td>0</td>\n",
       "      <td>0</td>\n",
       "      <td>0</td>\n",
       "      <td>0</td>\n",
       "      <td>0</td>\n",
       "      <td>0</td>\n",
       "      <td>0</td>\n",
       "      <td>0</td>\n",
       "      <td>0</td>\n",
       "      <td>...</td>\n",
       "      <td>0</td>\n",
       "      <td>0</td>\n",
       "      <td>0</td>\n",
       "      <td>0</td>\n",
       "      <td>0</td>\n",
       "      <td>0</td>\n",
       "      <td>0</td>\n",
       "      <td>0</td>\n",
       "      <td>0</td>\n",
       "      <td>0</td>\n",
       "    </tr>\n",
       "    <tr>\n",
       "      <th>3</th>\n",
       "      <td>0</td>\n",
       "      <td>0</td>\n",
       "      <td>0</td>\n",
       "      <td>0</td>\n",
       "      <td>0</td>\n",
       "      <td>0</td>\n",
       "      <td>0</td>\n",
       "      <td>0</td>\n",
       "      <td>0</td>\n",
       "      <td>0</td>\n",
       "      <td>...</td>\n",
       "      <td>0</td>\n",
       "      <td>0</td>\n",
       "      <td>0</td>\n",
       "      <td>0</td>\n",
       "      <td>0</td>\n",
       "      <td>0</td>\n",
       "      <td>0</td>\n",
       "      <td>0</td>\n",
       "      <td>0</td>\n",
       "      <td>0</td>\n",
       "    </tr>\n",
       "    <tr>\n",
       "      <th>4</th>\n",
       "      <td>0</td>\n",
       "      <td>0</td>\n",
       "      <td>0</td>\n",
       "      <td>0</td>\n",
       "      <td>0</td>\n",
       "      <td>0</td>\n",
       "      <td>0</td>\n",
       "      <td>0</td>\n",
       "      <td>0</td>\n",
       "      <td>0</td>\n",
       "      <td>...</td>\n",
       "      <td>0</td>\n",
       "      <td>0</td>\n",
       "      <td>0</td>\n",
       "      <td>0</td>\n",
       "      <td>0</td>\n",
       "      <td>0</td>\n",
       "      <td>0</td>\n",
       "      <td>0</td>\n",
       "      <td>0</td>\n",
       "      <td>0</td>\n",
       "    </tr>\n",
       "  </tbody>\n",
       "</table>\n",
       "<p>5 rows × 3600 columns</p>\n",
       "</div>"
      ],
      "text/plain": [
       "   007 Legends  0RBITALIS  \\\n",
       "0            0          0   \n",
       "1            0          0   \n",
       "2            0          0   \n",
       "3            0          0   \n",
       "4            0          0   \n",
       "\n",
       "   1... 2... 3... KICK IT! (Drop That Beat Like an Ugly Baby)  \\\n",
       "0                                                  0            \n",
       "1                                                  0            \n",
       "2                                                  0            \n",
       "3                                                  0            \n",
       "4                                                  0            \n",
       "\n",
       "   10 Second Ninja  10,000,000  100% Orange Juice  1000 Amps  \\\n",
       "0                0           0                  0          0   \n",
       "1                0           0                  0          0   \n",
       "2                0           0                  0          0   \n",
       "3                0           0                  0          0   \n",
       "4                0           0                  0          0   \n",
       "\n",
       "   12 Labours of Hercules  12 Labours of Hercules II The Cretan Bull  \\\n",
       "0                       0                                          0   \n",
       "1                       0                                          0   \n",
       "2                       0                                          0   \n",
       "3                       0                                          0   \n",
       "4                       0                                          0   \n",
       "\n",
       "   12 Labours of Hercules III Girl Power  ...  rFactor  rFactor 2  realMyst  \\\n",
       "0                                      0  ...        0          0         0   \n",
       "1                                      0  ...        0          0         0   \n",
       "2                                      0  ...        0          0         0   \n",
       "3                                      0  ...        0          0         0   \n",
       "4                                      0  ...        0          0         0   \n",
       "\n",
       "   realMyst Masterpiece Edition  resident evil 4 / biohazard 4  rymdkapsel  \\\n",
       "0                             0                              0           0   \n",
       "1                             0                              0           0   \n",
       "2                             0                              0           0   \n",
       "3                             0                              0           0   \n",
       "4                             0                              0           0   \n",
       "\n",
       "   sZone-Online  the static speaks my name  theHunter  theHunter Primal  \n",
       "0             0                          0          0                 0  \n",
       "1             0                          0          0                 0  \n",
       "2             0                          0          0                 0  \n",
       "3             0                          0          0                 0  \n",
       "4             0                          0          0                 0  \n",
       "\n",
       "[5 rows x 3600 columns]"
      ]
     },
     "execution_count": 196,
     "metadata": {},
     "output_type": "execute_result"
    }
   ],
   "source": [
    "#And we one-hot encode them\n",
    "from sklearn.preprocessing import MultiLabelBinarizer\n",
    "#One-hot-encode the lists\n",
    "mlb = MultiLabelBinarizer()\n",
    "\n",
    "played_encoded = pd.DataFrame(mlb.fit_transform(played_list),\n",
    "                   columns=mlb.classes_)\n",
    "\n",
    "played_encoded.head()"
   ]
  },
  {
   "cell_type": "code",
   "execution_count": 197,
   "id": "b6f70286",
   "metadata": {},
   "outputs": [],
   "source": [
    "#Create training and testing sets\n",
    "from sklearn.model_selection import train_test_split\n",
    "X_train, X_test, y_train, y_test = train_test_split(hours_encoded, played_encoded, test_size=0.2, random_state=42)"
   ]
  },
  {
   "cell_type": "markdown",
   "id": "bbf19790",
   "metadata": {},
   "source": [
    "Let's check if our data and labels are coherent"
   ]
  },
  {
   "cell_type": "code",
   "execution_count": 198,
   "id": "87623605",
   "metadata": {},
   "outputs": [
    {
     "data": {
      "text/plain": [
       "007 Legends                                                   0.0\n",
       "0RBITALIS                                                     0.0\n",
       "1... 2... 3... KICK IT! (Drop That Beat Like an Ugly Baby)    0.0\n",
       "10 Second Ninja                                               0.0\n",
       "10,000,000                                                    0.0\n",
       "                                                             ... \n",
       "rymdkapsel                                                    0.0\n",
       "sZone-Online                                                  0.0\n",
       "the static speaks my name                                     0.0\n",
       "theHunter                                                     0.0\n",
       "theHunter Primal                                              0.0\n",
       "Name: 10527, Length: 3600, dtype: float64"
      ]
     },
     "execution_count": 198,
     "metadata": {},
     "output_type": "execute_result"
    }
   ],
   "source": [
    "X_train.iloc[150]"
   ]
  },
  {
   "cell_type": "code",
   "execution_count": 226,
   "id": "cf48a582",
   "metadata": {},
   "outputs": [
    {
     "data": {
      "text/plain": [
       "[\"Assassin's Creed Revelations\",\n",
       " 'Borderlands',\n",
       " 'Counter-Strike Global Offensive',\n",
       " 'Darksiders',\n",
       " 'Darksiders II',\n",
       " \"Deus Ex Human Revolution - Director's Cut\",\n",
       " 'Fallout 3',\n",
       " 'Fallout New Vegas',\n",
       " 'Half-Life 2',\n",
       " 'Hard Reset',\n",
       " 'Hitman Codename 47',\n",
       " 'Metro 2033',\n",
       " 'ORION Prelude',\n",
       " 'PROTOTYPE 2',\n",
       " 'Remember Me']"
      ]
     },
     "execution_count": 226,
     "metadata": {},
     "output_type": "execute_result"
    }
   ],
   "source": [
    "#To retrieve the list of played games, we get the list of games with a\n",
    "#non zero time played and check the name corresponding to the index\n",
    "def games_of_player(i):\n",
    "    return [games_list[index] for index in list(np.asarray(y_train.iloc[i]).nonzero())[0]]\n",
    "\n",
    "games_of_player(150)"
   ]
  },
  {
   "cell_type": "code",
   "execution_count": 215,
   "id": "b65d0faf",
   "metadata": {},
   "outputs": [
    {
     "data": {
      "text/plain": [
       "Counter-Strike Global Offensive    261.0\n",
       "Fallout New Vegas                   24.0\n",
       "Borderlands                          9.0\n",
       "Name: 10527, dtype: float64"
      ]
     },
     "execution_count": 215,
     "metadata": {},
     "output_type": "execute_result"
    }
   ],
   "source": [
    "X_train.iloc[150][['Counter-Strike Global Offensive','Fallout New Vegas','Borderlands']]"
   ]
  },
  {
   "cell_type": "markdown",
   "id": "18103aa2",
   "metadata": {},
   "source": [
    "It seems clean! Let's implement the knn algorithm"
   ]
  },
  {
   "cell_type": "code",
   "execution_count": 216,
   "id": "9e9fcb92",
   "metadata": {},
   "outputs": [],
   "source": [
    "from sklearn.neighbors import KNeighborsClassifier"
   ]
  },
  {
   "cell_type": "markdown",
   "id": "5a2222c5",
   "metadata": {},
   "source": [
    "We will choose 100 neighbors. As we have almost 10000 users, it means we link a player to 1% of the dataset, which seems to be a fair choice."
   ]
  },
  {
   "cell_type": "code",
   "execution_count": 222,
   "id": "ee130b96",
   "metadata": {},
   "outputs": [
    {
     "data": {
      "text/html": [
       "<style>#sk-container-id-3 {color: black;background-color: white;}#sk-container-id-3 pre{padding: 0;}#sk-container-id-3 div.sk-toggleable {background-color: white;}#sk-container-id-3 label.sk-toggleable__label {cursor: pointer;display: block;width: 100%;margin-bottom: 0;padding: 0.3em;box-sizing: border-box;text-align: center;}#sk-container-id-3 label.sk-toggleable__label-arrow:before {content: \"▸\";float: left;margin-right: 0.25em;color: #696969;}#sk-container-id-3 label.sk-toggleable__label-arrow:hover:before {color: black;}#sk-container-id-3 div.sk-estimator:hover label.sk-toggleable__label-arrow:before {color: black;}#sk-container-id-3 div.sk-toggleable__content {max-height: 0;max-width: 0;overflow: hidden;text-align: left;background-color: #f0f8ff;}#sk-container-id-3 div.sk-toggleable__content pre {margin: 0.2em;color: black;border-radius: 0.25em;background-color: #f0f8ff;}#sk-container-id-3 input.sk-toggleable__control:checked~div.sk-toggleable__content {max-height: 200px;max-width: 100%;overflow: auto;}#sk-container-id-3 input.sk-toggleable__control:checked~label.sk-toggleable__label-arrow:before {content: \"▾\";}#sk-container-id-3 div.sk-estimator input.sk-toggleable__control:checked~label.sk-toggleable__label {background-color: #d4ebff;}#sk-container-id-3 div.sk-label input.sk-toggleable__control:checked~label.sk-toggleable__label {background-color: #d4ebff;}#sk-container-id-3 input.sk-hidden--visually {border: 0;clip: rect(1px 1px 1px 1px);clip: rect(1px, 1px, 1px, 1px);height: 1px;margin: -1px;overflow: hidden;padding: 0;position: absolute;width: 1px;}#sk-container-id-3 div.sk-estimator {font-family: monospace;background-color: #f0f8ff;border: 1px dotted black;border-radius: 0.25em;box-sizing: border-box;margin-bottom: 0.5em;}#sk-container-id-3 div.sk-estimator:hover {background-color: #d4ebff;}#sk-container-id-3 div.sk-parallel-item::after {content: \"\";width: 100%;border-bottom: 1px solid gray;flex-grow: 1;}#sk-container-id-3 div.sk-label:hover label.sk-toggleable__label {background-color: #d4ebff;}#sk-container-id-3 div.sk-serial::before {content: \"\";position: absolute;border-left: 1px solid gray;box-sizing: border-box;top: 0;bottom: 0;left: 50%;z-index: 0;}#sk-container-id-3 div.sk-serial {display: flex;flex-direction: column;align-items: center;background-color: white;padding-right: 0.2em;padding-left: 0.2em;position: relative;}#sk-container-id-3 div.sk-item {position: relative;z-index: 1;}#sk-container-id-3 div.sk-parallel {display: flex;align-items: stretch;justify-content: center;background-color: white;position: relative;}#sk-container-id-3 div.sk-item::before, #sk-container-id-3 div.sk-parallel-item::before {content: \"\";position: absolute;border-left: 1px solid gray;box-sizing: border-box;top: 0;bottom: 0;left: 50%;z-index: -1;}#sk-container-id-3 div.sk-parallel-item {display: flex;flex-direction: column;z-index: 1;position: relative;background-color: white;}#sk-container-id-3 div.sk-parallel-item:first-child::after {align-self: flex-end;width: 50%;}#sk-container-id-3 div.sk-parallel-item:last-child::after {align-self: flex-start;width: 50%;}#sk-container-id-3 div.sk-parallel-item:only-child::after {width: 0;}#sk-container-id-3 div.sk-dashed-wrapped {border: 1px dashed gray;margin: 0 0.4em 0.5em 0.4em;box-sizing: border-box;padding-bottom: 0.4em;background-color: white;}#sk-container-id-3 div.sk-label label {font-family: monospace;font-weight: bold;display: inline-block;line-height: 1.2em;}#sk-container-id-3 div.sk-label-container {text-align: center;}#sk-container-id-3 div.sk-container {/* jupyter's `normalize.less` sets `[hidden] { display: none; }` but bootstrap.min.css set `[hidden] { display: none !important; }` so we also need the `!important` here to be able to override the default hidden behavior on the sphinx rendered scikit-learn.org. See: https://github.com/scikit-learn/scikit-learn/issues/21755 */display: inline-block !important;position: relative;}#sk-container-id-3 div.sk-text-repr-fallback {display: none;}</style><div id=\"sk-container-id-3\" class=\"sk-top-container\"><div class=\"sk-text-repr-fallback\"><pre>KNeighborsClassifier(n_neighbors=100)</pre><b>In a Jupyter environment, please rerun this cell to show the HTML representation or trust the notebook. <br />On GitHub, the HTML representation is unable to render, please try loading this page with nbviewer.org.</b></div><div class=\"sk-container\" hidden><div class=\"sk-item\"><div class=\"sk-estimator sk-toggleable\"><input class=\"sk-toggleable__control sk-hidden--visually\" id=\"sk-estimator-id-3\" type=\"checkbox\" checked><label for=\"sk-estimator-id-3\" class=\"sk-toggleable__label sk-toggleable__label-arrow\">KNeighborsClassifier</label><div class=\"sk-toggleable__content\"><pre>KNeighborsClassifier(n_neighbors=100)</pre></div></div></div></div></div>"
      ],
      "text/plain": [
       "KNeighborsClassifier(n_neighbors=100)"
      ]
     },
     "execution_count": 222,
     "metadata": {},
     "output_type": "execute_result"
    }
   ],
   "source": [
    "neigh = KNeighborsClassifier(n_neighbors=100)\n",
    "neigh.fit(X_train,y_train)"
   ]
  },
  {
   "cell_type": "code",
   "execution_count": 223,
   "id": "05eaf80e",
   "metadata": {},
   "outputs": [
    {
     "name": "stderr",
     "output_type": "stream",
     "text": [
      "/home/vincent/.local/lib/python3.8/site-packages/sklearn/base.py:450: UserWarning: X does not have valid feature names, but KNeighborsClassifier was fitted with feature names\n",
      "  warnings.warn(\n"
     ]
    }
   ],
   "source": [
    "preds = neigh.predict([X_test.iloc[400]])"
   ]
  },
  {
   "cell_type": "code",
   "execution_count": 224,
   "id": "fa477058",
   "metadata": {},
   "outputs": [
    {
     "data": {
      "text/plain": [
       "(array([922]),)"
      ]
     },
     "execution_count": 224,
     "metadata": {},
     "output_type": "execute_result"
    }
   ],
   "source": [
    "preds[0].nonzero()"
   ]
  },
  {
   "cell_type": "code",
   "execution_count": 221,
   "id": "3dff6b01",
   "metadata": {},
   "outputs": [
    {
     "data": {
      "text/plain": [
       "'Dota 2'"
      ]
     },
     "execution_count": 221,
     "metadata": {},
     "output_type": "execute_result"
    }
   ],
   "source": [
    "games_list[922]"
   ]
  },
  {
   "cell_type": "code",
   "execution_count": 129,
   "id": "ad65da9d",
   "metadata": {},
   "outputs": [
    {
     "name": "stderr",
     "output_type": "stream",
     "text": [
      "/home/vincent/.local/lib/python3.8/site-packages/sklearn/base.py:450: UserWarning: X does not have valid feature names, but KNeighborsClassifier was fitted with feature names\n",
      "  warnings.warn(\n"
     ]
    }
   ],
   "source": [
    "kn = neigh.kneighbors([X_test.iloc[400]])"
   ]
  },
  {
   "cell_type": "code",
   "execution_count": 135,
   "id": "db870e6f",
   "metadata": {},
   "outputs": [
    {
     "data": {
      "text/plain": [
       "(array([[4.85077313, 4.85077313, 4.85180379, 4.85180379, 4.85180379,\n",
       "         4.85180379, 4.85180379, 4.85489444, 4.85489444, 4.85489444]]),\n",
       " array([[5163, 1859, 7137, 1998, 3794, 8400, 3257, 7500, 7355, 5923]]))"
      ]
     },
     "execution_count": 135,
     "metadata": {},
     "output_type": "execute_result"
    }
   ],
   "source": [
    "kn"
   ]
  },
  {
   "cell_type": "code",
   "execution_count": 227,
   "id": "d25239da",
   "metadata": {},
   "outputs": [
    {
     "data": {
      "text/plain": [
       "['Dota 2']"
      ]
     },
     "execution_count": 227,
     "metadata": {},
     "output_type": "execute_result"
    }
   ],
   "source": [
    "games_of_player(5163)"
   ]
  },
  {
   "cell_type": "code",
   "execution_count": 146,
   "id": "2a764299",
   "metadata": {},
   "outputs": [
    {
     "data": {
      "text/plain": [
       "9.7"
      ]
     },
     "execution_count": 146,
     "metadata": {},
     "output_type": "execute_result"
    }
   ],
   "source": [
    "X_test.iloc[400]['Dota 2']"
   ]
  },
  {
   "cell_type": "code",
   "execution_count": 147,
   "id": "72f55b3a",
   "metadata": {},
   "outputs": [
    {
     "data": {
      "text/plain": [
       "9.7"
      ]
     },
     "execution_count": 147,
     "metadata": {},
     "output_type": "execute_result"
    }
   ],
   "source": [
    "X_train.iloc[5163]['Dota 2']"
   ]
  }
 ],
 "metadata": {
  "kernelspec": {
   "display_name": "base",
   "language": "python",
   "name": "base"
  },
  "language_info": {
   "codemirror_mode": {
    "name": "ipython",
    "version": 3
   },
   "file_extension": ".py",
   "mimetype": "text/x-python",
   "name": "python",
   "nbconvert_exporter": "python",
   "pygments_lexer": "ipython3",
   "version": "3.8.10"
  }
 },
 "nbformat": 4,
 "nbformat_minor": 5
}
