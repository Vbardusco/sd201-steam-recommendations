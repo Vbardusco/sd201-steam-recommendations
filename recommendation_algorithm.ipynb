{
 "cells": [
  {
   "cell_type": "code",
   "execution_count": 46,
   "metadata": {
    "executionInfo": {
     "elapsed": 579,
     "status": "ok",
     "timestamp": 1668113154710,
     "user": {
      "displayName": "Florian Celton",
      "userId": "07826884734248770623"
     },
     "user_tz": -60
    },
    "id": "fUxHhLyhOdlZ"
   },
   "outputs": [],
   "source": [
    "import json\n",
    "import requests\n",
    "import numpy as np\n",
    "import pandas as pd"
   ]
  },
  {
   "cell_type": "code",
   "execution_count": 25,
   "metadata": {},
   "outputs": [],
   "source": [
    "#Dataframe of all steam games\n",
    "steam_games = pd.read_csv('steam_games.csv')\n",
    "\n",
    "def cleanJsonResponse(steamId, jsonResponse):\n",
    "  new_json = []\n",
    "  for j in range(jsonResponse['game_count']):\n",
    "    appid = jsonResponse['games'][j]['appid']\n",
    "    total_playtime = jsonResponse['games'][j]['playtime_forever']\n",
    "    new_json_line = {'steamid': steamId, 'appid': appid, 'total_playtime': total_playtime}\n",
    "    new_json.append(new_json_line)\n",
    "  return new_json\n",
    "\n",
    "### GET GAME INFO\n",
    "def getGameInfo(steamId):\n",
    "  ploads = {'steamid': steamId,'format':'json', 'key': '92B91BC3A28D928DF3AE65CB3B75943D'}\n",
    "  r = requests.get('http://api.steampowered.com/IPlayerService/GetOwnedGames/v0001',params=ploads)\n",
    "  if (\n",
    "      r.status_code != 204 and\n",
    "      r.headers[\"content-type\"].strip().startswith(\"application/json\")\n",
    "  ):\n",
    "    return cleanJsonResponse(steamId, r.json()['response'])\n",
    "\n",
    "def getGames(steamId):\n",
    "    #Create a unique dictionnary with games and playtimes\n",
    "    json = getGameInfo(steamId)\n",
    "    player = {}\n",
    "    for d in json:\n",
    "        #Convert appid to game name\n",
    "        appid = d['appid']\n",
    "        try:\n",
    "            game_name = steam_games.loc[steam_games['appid']==appid]['name'].values[0]\n",
    "        except: #Game is not in in the dataset\n",
    "            None \n",
    "        player[game_name]=d['total_playtime']\n",
    "    return player"
   ]
  },
  {
   "cell_type": "code",
   "execution_count": 69,
   "metadata": {},
   "outputs": [],
   "source": [
    "#knn model\n",
    "from sklearn.neighbors import NearestNeighbors\n",
    "\n",
    "class SteamPredictionModel():\n",
    "    \n",
    "    def __init__(self, k_neighbors = 5):\n",
    "        self.neigh = NearestNeighbors(n_neighbors=k_neighbors, metric='euclidean')\n",
    "        self.games_list = []\n",
    "        self.avg_dict = {}\n",
    "        self.hours_min = 0\n",
    "        self.hours_max = 0\n",
    "        self.likeness = None\n",
    "        \n",
    "    def dict_to_likeness(self, dicti):\n",
    "        d = dicti.copy()\n",
    "        for game in d.keys():\n",
    "            if d[game] >= self.avg_dict[game]:\n",
    "                d[game]= d[game] - self.avg_dict[game]\n",
    "            else:\n",
    "                d[game]=0\n",
    "        return d\n",
    "    \n",
    "    #We fit the model on a dataset containing ids and dictionnaries of games associated with time played\n",
    "    def fit(self, data):\n",
    "        #Encode the hours played for each game in a dataset\n",
    "        hours_encoded = data.apply(pd.Series)\n",
    "        #Replace NaN values by 0 : a game not in the dict has never been played\n",
    "        hours_encoded = hours_encoded.fillna(0)\n",
    "        hours_encoded = hours_encoded.reindex(sorted(hours_encoded.columns),axis=1)\n",
    "        \n",
    "        self.neigh.fit(hours_encoded.values)\n",
    "        \n",
    "        #Get the list of games\n",
    "        games_list = list(hours_encoded.columns)\n",
    "        games_list.sort()\n",
    "        self.games_list = games_list\n",
    "        \n",
    "        #Get average time played for each game\n",
    "        avg = played_games.groupby('game')['hours_played'].apply(np.average).reset_index(name='avg_hours_played')\n",
    "        #Dictionnary of average time played\n",
    "        self.avg_dict = avg.set_index('game').to_dict()['avg_hours_played']\n",
    "\n",
    "        \n",
    "        #For each player, we compute the list of game he likes with the time he has played aboved average time played\n",
    "        likeness_games = data.map(self.dict_to_likeness)\n",
    "        #And encode them\n",
    "        likeness_games_encoded = likeness_games.apply(pd.Series)\n",
    "        #Replace NaN values by 0 : a game not in the dict has never been played\n",
    "        likeness_games_encoded = likeness_games_encoded.fillna(0)\n",
    "        likeness_games_encoded = likeness_games_encoded.reindex(sorted(likeness_games_encoded.columns),axis=1)\n",
    "        self.likeness = likeness_games_encoded\n",
    "    \n",
    "    #We predict a certain number of games (maximum) using a dictionnary of games associated with time played\n",
    "    def predict(self, X_init, recommendations_number_max):\n",
    "        #One-hot-encode X\n",
    "        X = score = pd.Series(X_init,index=self.games_list).fillna(0)\n",
    "        \n",
    "        #Create a vector with all games and a null score\n",
    "        score = pd.Series({self.games_list[0]:0.0},index=self.games_list).fillna(0)\n",
    "\n",
    "        #Get the list of games played by X\n",
    "        already_owned = [self.games_list[index] for index in np.asarray(X).nonzero()[0]]\n",
    "\n",
    "        #Get the neighbors of X\n",
    "        kneighbors = self.neigh.kneighbors([X])\n",
    "        kneighbors_distances = kneighbors[0][0]\n",
    "        kneighbors_indices = kneighbors[1][0]\n",
    "\n",
    "        for i in range(len(kneighbors_indices)):\n",
    "            neighbor = kneighbors_indices[i]\n",
    "            #get the list of liked games\n",
    "            liked = [self.games_list[index] for index in np.asarray(self.likeness.iloc[neighbor]).nonzero()[0]]\n",
    "            #Add to each game score (1/d)*l with d the distance between X and the neighbor\n",
    "            #and l the amount of time played above the average\n",
    "            for liked_game in liked:\n",
    "                if liked_game not in already_owned:\n",
    "                    score[liked_game] = score[liked_game] + 1/kneighbors_distances[i] + self.likeness.iloc[neighbor][liked_game]\n",
    "\n",
    "\n",
    "        score = score.sort_values(ascending=False)\n",
    "        return score.iloc[:recommendations_number_max]"
   ]
  },
  {
   "cell_type": "code",
   "execution_count": 70,
   "metadata": {},
   "outputs": [
    {
     "name": "stderr",
     "output_type": "stream",
     "text": [
      "/tmp/ipykernel_5743/1424310005.py:9: SettingWithCopyWarning: \n",
      "A value is trying to be set on a copy of a slice from a DataFrame.\n",
      "Try using .loc[row_indexer,col_indexer] = value instead\n",
      "\n",
      "See the caveats in the documentation: https://pandas.pydata.org/pandas-docs/stable/user_guide/indexing.html#returning-a-view-versus-a-copy\n",
      "  played_games['hours_played'] = (played_games['hours_played']-played_games['hours_played'].min())/(played_games['hours_played'].max()-played_games['hours_played'].min())\n"
     ]
    }
   ],
   "source": [
    "#Fit the model on the dataset keeping only players that played at least 3 games\n",
    "\n",
    "#read data\n",
    "data = pd.read_csv('steam-200k.csv')\n",
    "#clean data\n",
    "data.columns = ['id','game','state','hours_played','0']\n",
    "data = data.drop('0',axis=1)\n",
    "played_games = data.loc[data['state']=='play']\n",
    "played_games['hours_played'] = (played_games['hours_played']-played_games['hours_played'].min())/(played_games['hours_played'].max()-played_games['hours_played'].min())\n",
    "#Get a dict of games and hours played for each id\n",
    "played_dict = played_games.groupby('id').apply(lambda g : dict(zip(g['game'], g['hours_played'])))\n",
    "#Select players that played at least 3 games\n",
    "played_dict_3 = played_dict.loc[played_dict.map(len)>=3]\n",
    "\n",
    "SPM = SteamPredictionModel(5)\n",
    "SPM.fit(played_dict_3)"
   ]
  },
  {
   "cell_type": "code",
   "execution_count": 73,
   "metadata": {},
   "outputs": [],
   "source": [
    "def recommend(steamId, number_of_recommendations):\n",
    "    player = getGames(steamId)\n",
    "    return SPM.predict(player,number_of_recommendations)"
   ]
  },
  {
   "cell_type": "code",
   "execution_count": 74,
   "metadata": {},
   "outputs": [
    {
     "data": {
      "text/plain": [
       "Dota 2                                      0.088606\n",
       "7 Days to Die                               0.049231\n",
       "Rocket League                               0.027031\n",
       "Total War SHOGUN 2                          0.022307\n",
       "Rising Storm/Red Orchestra 2 Multiplayer    0.013252\n",
       "dtype: float64"
      ]
     },
     "execution_count": 74,
     "metadata": {},
     "output_type": "execute_result"
    }
   ],
   "source": [
    "recommend('76561198120113085',5)"
   ]
  }
 ],
 "metadata": {
  "colab": {
   "authorship_tag": "ABX9TyNCcAsYCtzp8rnLoA/NJepV",
   "collapsed_sections": [],
   "provenance": []
  },
  "kernelspec": {
   "display_name": "Python 3 (ipykernel)",
   "language": "python",
   "name": "python3"
  },
  "language_info": {
   "codemirror_mode": {
    "name": "ipython",
    "version": 3
   },
   "file_extension": ".py",
   "mimetype": "text/x-python",
   "name": "python",
   "nbconvert_exporter": "python",
   "pygments_lexer": "ipython3",
   "version": "3.8.10"
  }
 },
 "nbformat": 4,
 "nbformat_minor": 1
}
