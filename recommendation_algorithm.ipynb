{
 "cells": [
  {
   "cell_type": "markdown",
   "metadata": {},
   "source": [
    "# Recommendation algorithm"
   ]
  },
  {
   "cell_type": "markdown",
   "metadata": {},
   "source": [
    "## Objective\n",
    "\n",
    "The aim of this notebook is to enable you to check our algorithm, and to test it with your own steam ID.  \n",
    "To do so, please check the last part of the report."
   ]
  },
  {
   "cell_type": "code",
   "execution_count": 1,
   "metadata": {
    "executionInfo": {
     "elapsed": 579,
     "status": "ok",
     "timestamp": 1668113154710,
     "user": {
      "displayName": "Florian Celton",
      "userId": "07826884734248770623"
     },
     "user_tz": -60
    },
    "id": "fUxHhLyhOdlZ"
   },
   "outputs": [],
   "source": [
    "import json\n",
    "import requests\n",
    "import numpy as np\n",
    "import pandas as pd"
   ]
  },
  {
   "cell_type": "markdown",
   "metadata": {},
   "source": [
    "## Setup recommendation model"
   ]
  },
  {
   "cell_type": "code",
   "execution_count": 2,
   "metadata": {},
   "outputs": [],
   "source": [
    "#knn model\n",
    "from sklearn.neighbors import NearestNeighbors\n",
    "\n",
    "class SteamPredictionModel():\n",
    "    \n",
    "    def __init__(self, k_neighbors = 5):\n",
    "        self.neigh = NearestNeighbors(n_neighbors=k_neighbors, metric='euclidean')\n",
    "        self.games_list = []\n",
    "        self.avg_dict = {}\n",
    "        self.likeness = None\n",
    "        \n",
    "    def dict_to_likeness(self,dicti):\n",
    "        d = dicti.copy()\n",
    "        for game in d.keys(): #if a game was not liked, the likeness is 0\n",
    "            if d[game] < 0:\n",
    "                d[game]= 0\n",
    "        return d\n",
    "    \n",
    "    #We fit the model on a dataset containing ids and dictionnaries of games associated with time played\n",
    "    def fit(self, data):\n",
    "        #We encode the time spent on each game for each player\n",
    "        hours_encoded = data.apply(pd.Series)\n",
    "        #Replace NaN values by 0 : a game not in the dict has never been played\n",
    "        hours_encoded = hours_encoded.fillna(0)\n",
    "        hours_encoded = hours_encoded.reindex(sorted(hours_encoded.columns),axis=1)\n",
    "        \n",
    "        #Fit the knn algorithm with the encoded time spent\n",
    "        self.neigh.fit(hours_encoded.values)\n",
    "        \n",
    "        #Get the list of games\n",
    "        games_list = list(hours_encoded.columns)\n",
    "        games_list.sort()\n",
    "        self.games_list = games_list\n",
    "        \n",
    "        #For each player, we compute the list of game he likes with the time he has played aboved average time played\n",
    "        likeness_games = data.map(self.dict_to_likeness)\n",
    "        #And encode them\n",
    "        likeness_games_encoded = likeness_games.apply(pd.Series)\n",
    "        #Replace NaN values by 0 : a game not in the dict has never been played\n",
    "        likeness_games_encoded = likeness_games_encoded.fillna(0)\n",
    "        likeness_games_encoded = likeness_games_encoded.reindex(sorted(likeness_games_encoded.columns),axis=1)\n",
    "        self.likeness = likeness_games_encoded\n",
    "    \n",
    "    #We predict a certain number of games (maximum) using a dictionnary of games associated with time played\n",
    "    def predict(self, X_init, recommendations_number_max):\n",
    "        #Encode X\n",
    "        X = score = pd.Series(X_init,index=self.games_list).fillna(0)\n",
    "        \n",
    "        #Create a vector with all games and a null score\n",
    "        score = pd.Series({self.games_list[0]:0.0},index=self.games_list).fillna(0)\n",
    "\n",
    "        #Get the list of games played by X\n",
    "        already_owned = [self.games_list[index] for index in np.asarray(X).nonzero()[0]]\n",
    "\n",
    "        #Get the neighbors of X\n",
    "        kneighbors = self.neigh.kneighbors([X])\n",
    "        kneighbors_distances = kneighbors[0][0]\n",
    "        kneighbors_indices = kneighbors[1][0]\n",
    "\n",
    "        for i in range(len(kneighbors_indices)):\n",
    "            neighbor = kneighbors_indices[i]\n",
    "            #get the list of liked games\n",
    "            liked = [self.games_list[index] for index in np.asarray(self.likeness.iloc[neighbor]).nonzero()[0]]\n",
    "            #Add to each game score (1/d)*l with d the distance between X and the neighbor\n",
    "            #and l the amount of time played above the average\n",
    "            for liked_game in liked:\n",
    "                if liked_game not in already_owned:\n",
    "                    score[liked_game] = score[liked_game] + 1/kneighbors_distances[i] + self.likeness.iloc[neighbor][liked_game]\n",
    "\n",
    "\n",
    "        score = score.sort_values(ascending=False)\n",
    "        return score.iloc[:recommendations_number_max]"
   ]
  },
  {
   "cell_type": "code",
   "execution_count": 21,
   "metadata": {
    "scrolled": true
   },
   "outputs": [
    {
     "name": "stderr",
     "output_type": "stream",
     "text": [
      "/tmp/ipykernel_84193/3132955137.py:23: SettingWithCopyWarning: \n",
      "A value is trying to be set on a copy of a slice from a DataFrame.\n",
      "Try using .loc[row_indexer,col_indexer] = value instead\n",
      "\n",
      "See the caveats in the documentation: https://pandas.pydata.org/pandas-docs/stable/user_guide/indexing.html#returning-a-view-versus-a-copy\n",
      "  played_games['hours_played'] = played_games.apply(lambda x : standardize(x.game, x.hours_played),axis=1)\n"
     ]
    }
   ],
   "source": [
    "#Fit the model on the dataset keeping only players that played at least 3 games\n",
    "\n",
    "#read data\n",
    "data = pd.read_csv('steam-200k.csv')\n",
    "#clean data\n",
    "data.columns = ['id','game','state','hours_played','0']\n",
    "data = data.drop('0',axis=1)\n",
    "played_games = data.loc[data['state']=='play']\n",
    "\n",
    "#Standardization\n",
    "standardization_dict = dict()\n",
    "for game_name, s in played_games.groupby('game')['hours_played']:\n",
    "    standardization_dict[game_name]=dict()\n",
    "    series = s[s>0.0]  #take only games played\n",
    "    standardization_dict[game_name]['average'] = series.mean()\n",
    "    if series.std() > 0 : #for some games that are not much played, std is 0 which creates errors\n",
    "        standardization_dict[game_name]['std'] = series.std()\n",
    "    else:\n",
    "        standardization_dict[game_name]['std'] = 1e-8\n",
    "\n",
    "def standardize(game, hours):\n",
    "    return (hours - standardization_dict[game]['average'])/standardization_dict[game]['std']\n",
    "played_games['hours_played'] = played_games.apply(lambda x : standardize(x.game, x.hours_played),axis=1)\n",
    "\n",
    "#Get a dict of games and hours played for each id\n",
    "played_dict = played_games.groupby('id').apply(lambda g : dict(zip(g['game'], g['hours_played'])))\n",
    "#Select players that played at least 3 games\n",
    "played_dict_3 = played_dict.loc[played_dict.map(len)>=3]\n",
    "\n",
    "SPM = SteamPredictionModel(20)\n",
    "SPM.fit(played_dict_3)"
   ]
  },
  {
   "cell_type": "markdown",
   "metadata": {},
   "source": [
    "## Setup Steam API requests"
   ]
  },
  {
   "cell_type": "code",
   "execution_count": 5,
   "metadata": {},
   "outputs": [],
   "source": [
    "#Dataframe of all steam games\n",
    "steam_games = pd.read_csv('steam_games.csv')\n",
    "\n",
    "def cleanJsonResponse(steamId, jsonResponse):\n",
    "  new_json = []\n",
    "  for j in range(jsonResponse['game_count']):\n",
    "    appid = jsonResponse['games'][j]['appid']\n",
    "    total_playtime = jsonResponse['games'][j]['playtime_forever']\n",
    "    new_json_line = {'steamid': steamId, 'appid': appid, 'total_playtime': total_playtime}\n",
    "    new_json.append(new_json_line)\n",
    "  return new_json\n",
    "\n",
    "### GET GAME INFO\n",
    "def getGameInfo(steamId):\n",
    "  ploads = {'steamid': steamId,'format':'json', 'key': '92B91BC3A28D928DF3AE65CB3B75943D'}\n",
    "  r = requests.get('http://api.steampowered.com/IPlayerService/GetOwnedGames/v0001',params=ploads)\n",
    "  if (\n",
    "      r.status_code != 204 and\n",
    "      r.headers[\"content-type\"].strip().startswith(\"application/json\")\n",
    "  ):\n",
    "    return cleanJsonResponse(steamId, r.json()['response'])\n",
    "\n",
    "def getGames(steamId):\n",
    "    #Create a unique dictionnary with games and playtimes\n",
    "    json = getGameInfo(steamId)\n",
    "    player = {}\n",
    "    for d in json:\n",
    "        #Convert appid to game name\n",
    "        appid = d['appid']\n",
    "        try:\n",
    "            game_name = steam_games.loc[steam_games['appid']==appid]['name'].values[0]\n",
    "        except: #Game is not in in the dataset\n",
    "            None \n",
    "        player[game_name]=d['total_playtime']\n",
    "    return player"
   ]
  },
  {
   "cell_type": "markdown",
   "metadata": {},
   "source": [
    "## Test our algorithm !"
   ]
  },
  {
   "cell_type": "code",
   "execution_count": 6,
   "metadata": {},
   "outputs": [],
   "source": [
    "def recommend(steamId, number_of_recommendations):\n",
    "    player = getGames(steamId)\n",
    "    return SPM.predict(player,number_of_recommendations)"
   ]
  },
  {
   "cell_type": "code",
   "execution_count": 16,
   "metadata": {
    "scrolled": true
   },
   "outputs": [
    {
     "data": {
      "text/plain": [
       "{'Portal': 162,\n",
       " \"Oddworld: Abe's Oddysee®\": 12,\n",
       " \"Oddworld: Abe's Exoddus®\": 0,\n",
       " \"Oddworld: Munch's Oddysee\": 462,\n",
       " \"Oddworld: Stranger's Wrath HD\": 184,\n",
       " 'Portal 2': 742,\n",
       " 'Psychonauts': 0,\n",
       " 'The Elder Scrolls V: Skyrim': 7496,\n",
       " 'Counter-Strike: Global Offensive': 3620,\n",
       " 'RPG Maker VX Ace': 2303,\n",
       " 'Worms Revolution': 0,\n",
       " 'Realm of the Mad God': 21,\n",
       " 'Star Conflict': 0,\n",
       " 'PlanetSide 2': 0,\n",
       " 'Toribash': 2853,\n",
       " 'Brutal Legend': 0,\n",
       " 'The Forest': 8362,\n",
       " 'Space Engineers': 233,\n",
       " 'Brothers - A Tale of Two Sons': 4,\n",
       " 'Castlevania: Lords of Shadow – Ultimate Edition': 3849,\n",
       " 'PAYDAY 2': 644,\n",
       " 'Rust': 0,\n",
       " 'Rocket League®': 38808,\n",
       " 'Dishonored': 335,\n",
       " 'Borderlands 2': 475,\n",
       " 'NARUTO SHIPPUDEN: Ultimate Ninja STORM 3 Full Burst HD': 915,\n",
       " 'FINAL FANTASY XIV Online': 6966,\n",
       " 'One Finger Death Punch': 602,\n",
       " 'DayZ': 194,\n",
       " 'Talisman: Digital Edition': 0,\n",
       " 'Talisman: Prologue': 8,\n",
       " 'METAL GEAR RISING: REVENGEANCE': 688,\n",
       " 'Left 4 Dead 2': 79,\n",
       " 'Broken Age': 0,\n",
       " 'A Story About My Uncle': 349,\n",
       " 'Metro: Last Light Redux': 70,\n",
       " 'Fable Anniversary': 445,\n",
       " 'GNOG': 0,\n",
       " 'Child of Light': 1038,\n",
       " 'FINAL FANTASY® XIII': 245,\n",
       " 'FINAL FANTASY® XIII-2': 178,\n",
       " 'Robocraft': 41,\n",
       " 'Agents of Mayhem': 0,\n",
       " 'Unturned': 113,\n",
       " 'Sniper Elite 3': 0,\n",
       " 'Castlevania: Lords of Shadow 2': 3275,\n",
       " 'Fahrenheit: Indigo Prophecy Remastered': 0,\n",
       " 'A Good Snowman Is Hard To Build': 0,\n",
       " 'SUPERHOT': 0,\n",
       " 'SUPERHOT: MIND CONTROL DELETE': 3982,\n",
       " 'FINAL FANTASY IV: THE AFTER YEARS': 364,\n",
       " 'Cities: Skylines': 29,\n",
       " 'Party Hard': 0,\n",
       " 'LIGHTNING RETURNS™: FINAL FANTASY® XIII': 1495,\n",
       " 'FINAL FANTASY X/X-2 HD Remaster': 6514,\n",
       " 'Killing Floor 2': 0,\n",
       " 'Clicker Heroes': 3,\n",
       " 'Magicka 2': 0,\n",
       " 'Ori and the Blind Forest: Definitive Edition': 1714,\n",
       " 'Brawlhalla': 1276,\n",
       " 'Darksiders II Deathinitive Edition': 14,\n",
       " 'Mitos.is: The Game': 0,\n",
       " 'Undertale': 24,\n",
       " 'The Jackbox Party Pack 2': 0,\n",
       " 'Business Tour - Board Game with Online Multiplayer': 611,\n",
       " 'The Witness': 0,\n",
       " 'Tales of Berseria™': 1028,\n",
       " 'Z1 Battle Royale': 0,\n",
       " 'Wizard of Legend': 0,\n",
       " 'Shadowverse CCG': 301,\n",
       " 'DUCATI - 90th Anniversary': 0,\n",
       " 'Darksiders Warmastered Edition': 0,\n",
       " 'Dishonored 2': 1081,\n",
       " 'Totally Accurate Battle Simulator': 0,\n",
       " 'For The King': 38,\n",
       " 'MapleStory 2': 82,\n",
       " \"A Mortician's Tale\": 19,\n",
       " 'We Were Here': 140,\n",
       " 'Dead Cells': 662,\n",
       " 'Into the Breach': 0,\n",
       " 'Yu-Gi-Oh! Duel Links': 19,\n",
       " 'Heroes of Paragon': 0,\n",
       " 'Risk of Rain 2': 20710,\n",
       " 'Stick Fight: The Game': 11,\n",
       " 'We Were Here Too': 0,\n",
       " 'Jotun: Valhalla Edition': 4,\n",
       " 'Dying Light': 0,\n",
       " 'Battlerite': 119,\n",
       " 'OKAMI HD / 大神 絶景版': 1796,\n",
       " 'MONSTER HUNTER: WORLD': 2461,\n",
       " 'Among Us': 143,\n",
       " 'NieR:Automata™': 798,\n",
       " 'Tomb Raider': 911,\n",
       " 'Little Nightmares': 1176,\n",
       " 'ARK: Survival Evolved': 0}"
      ]
     },
     "execution_count": 16,
     "metadata": {},
     "output_type": "execute_result"
    }
   ],
   "source": [
    "getGames('76561198120113085')"
   ]
  },
  {
   "cell_type": "code",
   "execution_count": 17,
   "metadata": {},
   "outputs": [
    {
     "data": {
      "text/plain": [
       "Metro 2033                       11.619035\n",
       "Dishonored                       10.030432\n",
       "Borderlands The Pre-Sequel        9.162029\n",
       "Saints Row IV                     9.053031\n",
       "Metro Last Light                  8.327534\n",
       "South Park The Stick of Truth     7.606258\n",
       "Terraria                          7.451121\n",
       "RAGE                              7.256444\n",
       "Chivalry Medieval Warfare         7.217615\n",
       "Deus Ex Human Revolution          6.672499\n",
       "dtype: float64"
      ]
     },
     "execution_count": 17,
     "metadata": {},
     "output_type": "execute_result"
    }
   ],
   "source": [
    "recommend('76561198119178621',10)"
   ]
  }
 ],
 "metadata": {
  "colab": {
   "authorship_tag": "ABX9TyNCcAsYCtzp8rnLoA/NJepV",
   "collapsed_sections": [],
   "provenance": []
  },
  "kernelspec": {
   "display_name": "Python 3 (ipykernel)",
   "language": "python",
   "name": "python3"
  },
  "language_info": {
   "codemirror_mode": {
    "name": "ipython",
    "version": 3
   },
   "file_extension": ".py",
   "mimetype": "text/x-python",
   "name": "python",
   "nbconvert_exporter": "python",
   "pygments_lexer": "ipython3",
   "version": "3.8.10"
  }
 },
 "nbformat": 4,
 "nbformat_minor": 1
}
