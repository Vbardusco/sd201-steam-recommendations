{
 "cells": [
  {
   "cell_type": "markdown",
   "id": "15ca36ea",
   "metadata": {},
   "source": [
    "# SD201 project"
   ]
  },
  {
   "cell_type": "markdown",
   "id": "b800d60e",
   "metadata": {},
   "source": [
    "- Create dataset from scraping with steam api\n",
    "- Make apriori algorithm on bought games\n",
    "- Make knn algorithm on hours played\n",
    "- Use steam api to make recommendations to a player"
   ]
  },
  {
   "cell_type": "markdown",
   "id": "041824a1",
   "metadata": {},
   "source": [
    "# Formulate the question"
   ]
  },
  {
   "cell_type": "markdown",
   "id": "dae81850",
   "metadata": {},
   "source": [
    "Knowing the games someone bought and how many hours they played it on Steam, what are the other games they could like and thus potentially buy ?"
   ]
  },
  {
   "cell_type": "markdown",
   "id": "7e32a8e2",
   "metadata": {},
   "source": [
    "# Finding the dataset"
   ]
  },
  {
   "cell_type": "markdown",
   "id": "298c68aa",
   "metadata": {},
   "source": [
    "We will use our own dataset created from scratch using Steam API in order to make predictions, so that the dataset is more complete and more recent."
   ]
  },
  {
   "cell_type": "code",
   "execution_count": 2,
   "id": "f65529d6",
   "metadata": {},
   "outputs": [],
   "source": [
    "import pandas as pd\n",
    "import numpy as np"
   ]
  },
  {
   "cell_type": "code",
   "execution_count": 3,
   "id": "c19ffb5a",
   "metadata": {},
   "outputs": [],
   "source": [
    "df = pd.read_json('SteamGameData.json')"
   ]
  },
  {
   "cell_type": "code",
   "execution_count": 4,
   "id": "8a975975",
   "metadata": {
    "scrolled": true
   },
   "outputs": [
    {
     "data": {
      "text/html": [
       "<div>\n",
       "<style scoped>\n",
       "    .dataframe tbody tr th:only-of-type {\n",
       "        vertical-align: middle;\n",
       "    }\n",
       "\n",
       "    .dataframe tbody tr th {\n",
       "        vertical-align: top;\n",
       "    }\n",
       "\n",
       "    .dataframe thead th {\n",
       "        text-align: right;\n",
       "    }\n",
       "</style>\n",
       "<table border=\"1\" class=\"dataframe\">\n",
       "  <thead>\n",
       "    <tr style=\"text-align: right;\">\n",
       "      <th></th>\n",
       "      <th>steamid</th>\n",
       "      <th>appid</th>\n",
       "      <th>total_playtime</th>\n",
       "    </tr>\n",
       "  </thead>\n",
       "  <tbody>\n",
       "    <tr>\n",
       "      <th>0</th>\n",
       "      <td>76561198006667424</td>\n",
       "      <td>240</td>\n",
       "      <td>2677</td>\n",
       "    </tr>\n",
       "    <tr>\n",
       "      <th>1</th>\n",
       "      <td>76561198006667424</td>\n",
       "      <td>4000</td>\n",
       "      <td>57279</td>\n",
       "    </tr>\n",
       "    <tr>\n",
       "      <th>2</th>\n",
       "      <td>76561198006667424</td>\n",
       "      <td>4760</td>\n",
       "      <td>19541</td>\n",
       "    </tr>\n",
       "    <tr>\n",
       "      <th>3</th>\n",
       "      <td>76561198006667424</td>\n",
       "      <td>4770</td>\n",
       "      <td>1720</td>\n",
       "    </tr>\n",
       "    <tr>\n",
       "      <th>4</th>\n",
       "      <td>76561198006667424</td>\n",
       "      <td>10500</td>\n",
       "      <td>35248</td>\n",
       "    </tr>\n",
       "  </tbody>\n",
       "</table>\n",
       "</div>"
      ],
      "text/plain": [
       "             steamid  appid  total_playtime\n",
       "0  76561198006667424    240            2677\n",
       "1  76561198006667424   4000           57279\n",
       "2  76561198006667424   4760           19541\n",
       "3  76561198006667424   4770            1720\n",
       "4  76561198006667424  10500           35248"
      ]
     },
     "execution_count": 4,
     "metadata": {},
     "output_type": "execute_result"
    }
   ],
   "source": [
    "df.head()"
   ]
  },
  {
   "cell_type": "markdown",
   "id": "865fed0d",
   "metadata": {},
   "source": [
    "Here we have appids and not game names, which is not really clear for the user. However, as the dataset is really huge (see below), we will not replace appids by game names right now, we will only replace them when making predictions."
   ]
  },
  {
   "cell_type": "code",
   "execution_count": 5,
   "id": "b18f4608",
   "metadata": {},
   "outputs": [
    {
     "data": {
      "text/html": [
       "<div>\n",
       "<style scoped>\n",
       "    .dataframe tbody tr th:only-of-type {\n",
       "        vertical-align: middle;\n",
       "    }\n",
       "\n",
       "    .dataframe tbody tr th {\n",
       "        vertical-align: top;\n",
       "    }\n",
       "\n",
       "    .dataframe thead th {\n",
       "        text-align: right;\n",
       "    }\n",
       "</style>\n",
       "<table border=\"1\" class=\"dataframe\">\n",
       "  <thead>\n",
       "    <tr style=\"text-align: right;\">\n",
       "      <th></th>\n",
       "      <th>steamid</th>\n",
       "      <th>appid</th>\n",
       "      <th>total_playtime</th>\n",
       "    </tr>\n",
       "  </thead>\n",
       "  <tbody>\n",
       "    <tr>\n",
       "      <th>count</th>\n",
       "      <td>1.341741e+06</td>\n",
       "      <td>1.341741e+06</td>\n",
       "      <td>1.341741e+06</td>\n",
       "    </tr>\n",
       "    <tr>\n",
       "      <th>mean</th>\n",
       "      <td>7.656120e+16</td>\n",
       "      <td>4.497420e+05</td>\n",
       "      <td>1.949825e+03</td>\n",
       "    </tr>\n",
       "    <tr>\n",
       "      <th>std</th>\n",
       "      <td>1.936204e+08</td>\n",
       "      <td>3.741208e+05</td>\n",
       "      <td>1.489921e+04</td>\n",
       "    </tr>\n",
       "    <tr>\n",
       "      <th>min</th>\n",
       "      <td>7.656120e+16</td>\n",
       "      <td>1.000000e+01</td>\n",
       "      <td>0.000000e+00</td>\n",
       "    </tr>\n",
       "    <tr>\n",
       "      <th>25%</th>\n",
       "      <td>7.656120e+16</td>\n",
       "      <td>2.237100e+05</td>\n",
       "      <td>0.000000e+00</td>\n",
       "    </tr>\n",
       "    <tr>\n",
       "      <th>50%</th>\n",
       "      <td>7.656120e+16</td>\n",
       "      <td>3.515100e+05</td>\n",
       "      <td>3.500000e+01</td>\n",
       "    </tr>\n",
       "    <tr>\n",
       "      <th>75%</th>\n",
       "      <td>7.656120e+16</td>\n",
       "      <td>6.015100e+05</td>\n",
       "      <td>4.360000e+02</td>\n",
       "    </tr>\n",
       "    <tr>\n",
       "      <th>max</th>\n",
       "      <td>7.656120e+16</td>\n",
       "      <td>2.165610e+06</td>\n",
       "      <td>1.853626e+06</td>\n",
       "    </tr>\n",
       "  </tbody>\n",
       "</table>\n",
       "</div>"
      ],
      "text/plain": [
       "            steamid         appid  total_playtime\n",
       "count  1.341741e+06  1.341741e+06    1.341741e+06\n",
       "mean   7.656120e+16  4.497420e+05    1.949825e+03\n",
       "std    1.936204e+08  3.741208e+05    1.489921e+04\n",
       "min    7.656120e+16  1.000000e+01    0.000000e+00\n",
       "25%    7.656120e+16  2.237100e+05    0.000000e+00\n",
       "50%    7.656120e+16  3.515100e+05    3.500000e+01\n",
       "75%    7.656120e+16  6.015100e+05    4.360000e+02\n",
       "max    7.656120e+16  2.165610e+06    1.853626e+06"
      ]
     },
     "execution_count": 5,
     "metadata": {},
     "output_type": "execute_result"
    }
   ],
   "source": [
    "df.describe()"
   ]
  },
  {
   "cell_type": "markdown",
   "id": "173481fb",
   "metadata": {},
   "source": [
    "The dataset cumulates 2 000 000 hours played, which seems enough, and we will check the number of users when the data will be a little bit cleaner."
   ]
  },
  {
   "cell_type": "markdown",
   "id": "0490f729",
   "metadata": {},
   "source": [
    "# Cleaning the data"
   ]
  },
  {
   "cell_type": "markdown",
   "id": "2395b4e4",
   "metadata": {},
   "source": [
    "## Renaming the columns"
   ]
  },
  {
   "cell_type": "code",
   "execution_count": 6,
   "id": "9097b2b3",
   "metadata": {},
   "outputs": [
    {
     "data": {
      "text/html": [
       "<div>\n",
       "<style scoped>\n",
       "    .dataframe tbody tr th:only-of-type {\n",
       "        vertical-align: middle;\n",
       "    }\n",
       "\n",
       "    .dataframe tbody tr th {\n",
       "        vertical-align: top;\n",
       "    }\n",
       "\n",
       "    .dataframe thead th {\n",
       "        text-align: right;\n",
       "    }\n",
       "</style>\n",
       "<table border=\"1\" class=\"dataframe\">\n",
       "  <thead>\n",
       "    <tr style=\"text-align: right;\">\n",
       "      <th></th>\n",
       "      <th>id</th>\n",
       "      <th>game</th>\n",
       "      <th>hours_played</th>\n",
       "    </tr>\n",
       "  </thead>\n",
       "  <tbody>\n",
       "    <tr>\n",
       "      <th>0</th>\n",
       "      <td>76561198006667424</td>\n",
       "      <td>240</td>\n",
       "      <td>2677</td>\n",
       "    </tr>\n",
       "    <tr>\n",
       "      <th>1</th>\n",
       "      <td>76561198006667424</td>\n",
       "      <td>4000</td>\n",
       "      <td>57279</td>\n",
       "    </tr>\n",
       "    <tr>\n",
       "      <th>2</th>\n",
       "      <td>76561198006667424</td>\n",
       "      <td>4760</td>\n",
       "      <td>19541</td>\n",
       "    </tr>\n",
       "    <tr>\n",
       "      <th>3</th>\n",
       "      <td>76561198006667424</td>\n",
       "      <td>4770</td>\n",
       "      <td>1720</td>\n",
       "    </tr>\n",
       "    <tr>\n",
       "      <th>4</th>\n",
       "      <td>76561198006667424</td>\n",
       "      <td>10500</td>\n",
       "      <td>35248</td>\n",
       "    </tr>\n",
       "  </tbody>\n",
       "</table>\n",
       "</div>"
      ],
      "text/plain": [
       "                  id   game  hours_played\n",
       "0  76561198006667424    240          2677\n",
       "1  76561198006667424   4000         57279\n",
       "2  76561198006667424   4760         19541\n",
       "3  76561198006667424   4770          1720\n",
       "4  76561198006667424  10500         35248"
      ]
     },
     "execution_count": 6,
     "metadata": {},
     "output_type": "execute_result"
    }
   ],
   "source": [
    "df.columns = ['id','game','hours_played']\n",
    "df.head()"
   ]
  },
  {
   "cell_type": "code",
   "execution_count": 7,
   "id": "21368440",
   "metadata": {},
   "outputs": [
    {
     "data": {
      "text/plain": [
       "8934"
      ]
     },
     "execution_count": 7,
     "metadata": {},
     "output_type": "execute_result"
    }
   ],
   "source": [
    "df['id'].nunique()"
   ]
  },
  {
   "cell_type": "code",
   "execution_count": 16,
   "id": "65b7270b",
   "metadata": {},
   "outputs": [
    {
     "data": {
      "text/plain": [
       "23186"
      ]
     },
     "execution_count": 16,
     "metadata": {},
     "output_type": "execute_result"
    }
   ],
   "source": [
    "df['game'].nunique()"
   ]
  },
  {
   "cell_type": "markdown",
   "id": "88b7aa00",
   "metadata": {},
   "source": [
    "We have 8934 users and 23186 games in the dataset, which seems to be a good start to create recommendations. Indeed, it is less than the kaggle dataset, but with players that play a lot more (10x more time played in total), which may give better results!"
   ]
  },
  {
   "cell_type": "markdown",
   "id": "329069a4",
   "metadata": {},
   "source": [
    "## Look out for NaN values"
   ]
  },
  {
   "cell_type": "code",
   "execution_count": 8,
   "id": "a5432fc0",
   "metadata": {},
   "outputs": [
    {
     "data": {
      "text/plain": [
       "False"
      ]
     },
     "execution_count": 8,
     "metadata": {},
     "output_type": "execute_result"
    }
   ],
   "source": [
    "df.isnull().values.any()"
   ]
  },
  {
   "cell_type": "markdown",
   "id": "9b46c4e2",
   "metadata": {},
   "source": [
    "There are no NaN values in the dataset"
   ]
  },
  {
   "cell_type": "code",
   "execution_count": 9,
   "id": "fd5903c0",
   "metadata": {},
   "outputs": [
    {
     "data": {
      "text/html": [
       "<div>\n",
       "<style scoped>\n",
       "    .dataframe tbody tr th:only-of-type {\n",
       "        vertical-align: middle;\n",
       "    }\n",
       "\n",
       "    .dataframe tbody tr th {\n",
       "        vertical-align: top;\n",
       "    }\n",
       "\n",
       "    .dataframe thead th {\n",
       "        text-align: right;\n",
       "    }\n",
       "</style>\n",
       "<table border=\"1\" class=\"dataframe\">\n",
       "  <thead>\n",
       "    <tr style=\"text-align: right;\">\n",
       "      <th></th>\n",
       "      <th>id</th>\n",
       "      <th>game</th>\n",
       "      <th>hours_played</th>\n",
       "    </tr>\n",
       "  </thead>\n",
       "  <tbody>\n",
       "    <tr>\n",
       "      <th>0</th>\n",
       "      <td>76561198006667424</td>\n",
       "      <td>240</td>\n",
       "      <td>2677</td>\n",
       "    </tr>\n",
       "    <tr>\n",
       "      <th>1</th>\n",
       "      <td>76561198006667424</td>\n",
       "      <td>4000</td>\n",
       "      <td>57279</td>\n",
       "    </tr>\n",
       "    <tr>\n",
       "      <th>2</th>\n",
       "      <td>76561198006667424</td>\n",
       "      <td>4760</td>\n",
       "      <td>19541</td>\n",
       "    </tr>\n",
       "    <tr>\n",
       "      <th>3</th>\n",
       "      <td>76561198006667424</td>\n",
       "      <td>4770</td>\n",
       "      <td>1720</td>\n",
       "    </tr>\n",
       "    <tr>\n",
       "      <th>4</th>\n",
       "      <td>76561198006667424</td>\n",
       "      <td>10500</td>\n",
       "      <td>35248</td>\n",
       "    </tr>\n",
       "  </tbody>\n",
       "</table>\n",
       "</div>"
      ],
      "text/plain": [
       "                  id   game  hours_played\n",
       "0  76561198006667424    240          2677\n",
       "1  76561198006667424   4000         57279\n",
       "2  76561198006667424   4760         19541\n",
       "3  76561198006667424   4770          1720\n",
       "4  76561198006667424  10500         35248"
      ]
     },
     "execution_count": 9,
     "metadata": {},
     "output_type": "execute_result"
    }
   ],
   "source": [
    "played_games = df\n",
    "played_games.head()"
   ]
  },
  {
   "cell_type": "markdown",
   "id": "5f5294dc",
   "metadata": {},
   "source": [
    "## Standardizing the data"
   ]
  },
  {
   "cell_type": "markdown",
   "id": "0e8d9c05",
   "metadata": {},
   "source": [
    "We want to standardize the hours played so that games with higher average time played will not mess with the predictions.  \n",
    "\n",
    "However, it is important to take care about the split between training, validation and testing. Indeed, if we standardize the whole dataset, the training set will impact the other two which is something we absolutely want to avoid.  \n",
    "\n",
    "Thus, we will firstly standardize the whole dataset for visualization purpose, but then we will only standardize the training set, and use this standardization for each test in each notebook.  \n",
    "\n",
    "To do so, we use the means and stds of each game to standardize them.   \n",
    "In particular, we will standardize the data not to be too much affected by outliers.  \n"
   ]
  },
  {
   "cell_type": "code",
   "execution_count": 10,
   "id": "5f5bfc12",
   "metadata": {},
   "outputs": [],
   "source": [
    "standardization_dict = dict()\n",
    "for game_name, s in played_games.groupby('game')['hours_played']:\n",
    "    standardization_dict[game_name]=dict()\n",
    "    series = s[s>0.0]  #take only games played\n",
    "    standardization_dict[game_name]['average'] = series.mean()\n",
    "    if series.std() > 0 : #for some games that are not much played, std is 0 which creates errors\n",
    "        standardization_dict[game_name]['std'] = series.std()\n",
    "    else:\n",
    "        standardization_dict[game_name]['std'] = 1e-8\n",
    "\n",
    "def standardize(game, hours):\n",
    "    return (hours - standardization_dict[game]['average'])/standardization_dict[game]['std']"
   ]
  },
  {
   "cell_type": "code",
   "execution_count": 11,
   "id": "989f967a",
   "metadata": {},
   "outputs": [
    {
     "data": {
      "text/html": [
       "<div>\n",
       "<style scoped>\n",
       "    .dataframe tbody tr th:only-of-type {\n",
       "        vertical-align: middle;\n",
       "    }\n",
       "\n",
       "    .dataframe tbody tr th {\n",
       "        vertical-align: top;\n",
       "    }\n",
       "\n",
       "    .dataframe thead th {\n",
       "        text-align: right;\n",
       "    }\n",
       "</style>\n",
       "<table border=\"1\" class=\"dataframe\">\n",
       "  <thead>\n",
       "    <tr style=\"text-align: right;\">\n",
       "      <th></th>\n",
       "      <th>id</th>\n",
       "      <th>game</th>\n",
       "      <th>hours_played</th>\n",
       "    </tr>\n",
       "  </thead>\n",
       "  <tbody>\n",
       "    <tr>\n",
       "      <th>0</th>\n",
       "      <td>76561198006667424</td>\n",
       "      <td>240</td>\n",
       "      <td>-0.330675</td>\n",
       "    </tr>\n",
       "    <tr>\n",
       "      <th>1</th>\n",
       "      <td>76561198006667424</td>\n",
       "      <td>4000</td>\n",
       "      <td>0.297830</td>\n",
       "    </tr>\n",
       "    <tr>\n",
       "      <th>2</th>\n",
       "      <td>76561198006667424</td>\n",
       "      <td>4760</td>\n",
       "      <td>4.815400</td>\n",
       "    </tr>\n",
       "    <tr>\n",
       "      <th>3</th>\n",
       "      <td>76561198006667424</td>\n",
       "      <td>4770</td>\n",
       "      <td>3.924549</td>\n",
       "    </tr>\n",
       "    <tr>\n",
       "      <th>4</th>\n",
       "      <td>76561198006667424</td>\n",
       "      <td>10500</td>\n",
       "      <td>3.799199</td>\n",
       "    </tr>\n",
       "  </tbody>\n",
       "</table>\n",
       "</div>"
      ],
      "text/plain": [
       "                  id   game  hours_played\n",
       "0  76561198006667424    240     -0.330675\n",
       "1  76561198006667424   4000      0.297830\n",
       "2  76561198006667424   4760      4.815400\n",
       "3  76561198006667424   4770      3.924549\n",
       "4  76561198006667424  10500      3.799199"
      ]
     },
     "execution_count": 11,
     "metadata": {},
     "output_type": "execute_result"
    }
   ],
   "source": [
    "standardized = played_games.copy()\n",
    "\n",
    "standardized['hours_played'] = standardized.apply(lambda x : standardize(x.game, x.hours_played),axis=1)\n",
    "standardized.head()"
   ]
  },
  {
   "cell_type": "markdown",
   "id": "95fa286f",
   "metadata": {},
   "source": [
    "# Visualizing the data"
   ]
  },
  {
   "cell_type": "code",
   "execution_count": 12,
   "id": "787c53ca",
   "metadata": {},
   "outputs": [],
   "source": [
    "import matplotlib.pyplot as plt"
   ]
  },
  {
   "cell_type": "code",
   "execution_count": 13,
   "id": "c16c69bf",
   "metadata": {},
   "outputs": [
    {
     "data": {
      "text/plain": [
       "Text(0.5, 1.0, 'Density of hours played by player')"
      ]
     },
     "execution_count": 13,
     "metadata": {},
     "output_type": "execute_result"
    },
    {
     "data": {
      "image/png": "[encoded data removed]",
      "text/plain": [
       "<Figure size 640x480 with 1 Axes>"
      ]
     },
     "metadata": {},
     "output_type": "display_data"
    }
   ],
   "source": [
    "plt.figure()\n",
    "standardized.groupby(['id'])['hours_played'].sum().hist()\n",
    "plt.title('Density of hours played by player')"
   ]
  },
  {
   "cell_type": "markdown",
   "id": "e469dece",
   "metadata": {},
   "source": [
    "Almost everyone in this dataset plays around the average played time of each game."
   ]
  },
  {
   "cell_type": "code",
   "execution_count": 14,
   "id": "a86f198f",
   "metadata": {},
   "outputs": [
    {
     "data": {
      "text/plain": [
       "Text(0.5, 1.0, 'Density of games owned by player')"
      ]
     },
     "execution_count": 14,
     "metadata": {},
     "output_type": "execute_result"
    },
    {
     "data": {
      "image/png": "[encoded data removed]",
      "text/plain": [
       "<Figure size 640x480 with 1 Axes>"
      ]
     },
     "metadata": {},
     "output_type": "display_data"
    }
   ],
   "source": [
    "plt.figure()\n",
    "played_games.groupby(['id'])['game'].count().hist()\n",
    "plt.title('Density of games owned by player')"
   ]
  },
  {
   "cell_type": "markdown",
   "id": "fca70d79",
   "metadata": {},
   "source": [
    "It seems that the distribution is exponential, as in the kaggle dataset, but here most of players have played a lot of games.  \n",
    "Let's compute the mean of games played."
   ]
  },
  {
   "cell_type": "code",
   "execution_count": 15,
   "id": "ce405a71",
   "metadata": {},
   "outputs": [
    {
     "data": {
      "text/plain": [
       "150.183680322364"
      ]
     },
     "execution_count": 15,
     "metadata": {},
     "output_type": "execute_result"
    }
   ],
   "source": [
    "played_games.groupby(['id'])['game'].count().mean()"
   ]
  },
  {
   "cell_type": "markdown",
   "id": "05afc649",
   "metadata": {},
   "source": [
    "We see that we have a dataset composed of players that play a lot of games in comparison with the kaggle dataset. It is logical because with the method we used, taking friends of friends of friends..., we gather players that use a lot the platform, while we can suppose that the kaggle dataset is composed by a majority of players that only played one game for instance."
   ]
  },
  {
   "cell_type": "code",
   "execution_count": 48,
   "id": "ac6c4c66",
   "metadata": {},
   "outputs": [
    {
     "data": {
      "text/plain": [
       "Text(0.5, 1.0, 'Density of hours played by outlier players')"
      ]
     },
     "execution_count": 48,
     "metadata": {},
     "output_type": "execute_result"
    },
    {
     "data": {
      "image/png": "[encoded data removed]",
      "text/plain": [
       "<Figure size 640x480 with 1 Axes>"
      ]
     },
     "metadata": {},
     "output_type": "display_data"
    }
   ],
   "source": [
    "plt.figure()\n",
    "standardized.groupby(['id'])['hours_played'].sum().loc[(standardized.groupby(['id'])['hours_played'].sum()>50)].hist()\n",
    "plt.title('Density of hours played by outlier players')"
   ]
  },
  {
   "cell_type": "code",
   "execution_count": 21,
   "id": "dac77eee",
   "metadata": {},
   "outputs": [
    {
     "data": {
      "text/plain": [
       "Text(0.5, 1.0, 'Density of games owned by outlier players')"
      ]
     },
     "execution_count": 21,
     "metadata": {},
     "output_type": "execute_result"
    },
    {
     "data": {
      "image/png": "[encoded data removed]",
      "text/plain": [
       "<Figure size 640x480 with 1 Axes>"
      ]
     },
     "metadata": {},
     "output_type": "display_data"
    }
   ],
   "source": [
    "plt.figure()\n",
    "played_games.groupby(['id'])['game'].count().loc[played_games.groupby(['id'])['game'].count()>200].hist()\n",
    "plt.title('Density of games owned by outlier players')"
   ]
  },
  {
   "cell_type": "markdown",
   "id": "d3d67aa3",
   "metadata": {},
   "source": [
    "Even for outliers, the exponential distribution seems to be verified."
   ]
  },
  {
   "cell_type": "markdown",
   "id": "4fa952cc",
   "metadata": {},
   "source": [
    "The distributions seem identical to the distributions of the kaggle dataset !"
   ]
  }
 ],
 "metadata": {
  "kernelspec": {
   "display_name": "Python 3.9.13 ('base')",
   "language": "python",
   "name": "python3"
  },
  "language_info": {
   "codemirror_mode": {
    "name": "ipython",
    "version": 3
   },
   "file_extension": ".py",
   "mimetype": "text/x-python",
   "name": "python",
   "nbconvert_exporter": "python",
   "pygments_lexer": "ipython3",
   "version": "3.9.13"
  },
  "vscode": {
   "interpreter": {
    "hash": "82beec7210971e3769f3d591826a624b1fec7874f4c33a161b0cc69971345e33"
   }
  }
 },
 "nbformat": 4,
 "nbformat_minor": 5
}
